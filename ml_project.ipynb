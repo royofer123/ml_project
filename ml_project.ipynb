{
 "cells": [
  {
   "cell_type": "markdown",
   "id": "294ca741",
   "metadata": {},
   "source": [
    "# Importing necessary libraries"
   ]
  },
  {
   "cell_type": "code",
   "execution_count": 240,
   "id": "ba53483b",
   "metadata": {},
   "outputs": [],
   "source": [
    "import pandas as pd\n",
    "import numpy as np\n",
    "import matplotlib\n",
    "import matplotlib.pyplot as plt\n",
    "import seaborn as sns\n",
    "from sklearn.model_selection import train_test_split\n",
    "from sklearn.dummy import DummyClassifier\n",
    "from sklearn.metrics import ConfusionMatrixDisplay\n",
    "from sklearn.neighbors import KNeighborsClassifier\n",
    "from sklearn import metrics\n",
    "from sklearn.metrics import classification_report\n",
    "from sklearn.metrics import roc_auc_score\n",
    "from sklearn.model_selection import GridSearchCV\n",
    "\n",
    "\n",
    "import warnings\n",
    "warnings.filterwarnings('ignore')"
   ]
  },
  {
   "cell_type": "markdown",
   "id": "bd7db00d",
   "metadata": {},
   "source": [
    "# Basic info on the Data"
   ]
  },
  {
   "cell_type": "code",
   "execution_count": 132,
   "id": "acee475d",
   "metadata": {},
   "outputs": [],
   "source": [
    "df = pd.read_csv(\"/Users/twmrgwzln/Downloads/corona_tested_individuals_ver_00225.csv\")"
   ]
  },
  {
   "cell_type": "code",
   "execution_count": 133,
   "id": "bc7e2be5",
   "metadata": {},
   "outputs": [],
   "source": [
    "#df = pd.read_csv(\"C:\\\\Project\\\\corona_tested_individuals_ver_00225.csv\")\n"
   ]
  },
  {
   "cell_type": "code",
   "execution_count": 134,
   "id": "23d6cddf",
   "metadata": {},
   "outputs": [
    {
     "data": {
      "text/html": [
       "<div>\n",
       "<style scoped>\n",
       "    .dataframe tbody tr th:only-of-type {\n",
       "        vertical-align: middle;\n",
       "    }\n",
       "\n",
       "    .dataframe tbody tr th {\n",
       "        vertical-align: top;\n",
       "    }\n",
       "\n",
       "    .dataframe thead th {\n",
       "        text-align: right;\n",
       "    }\n",
       "</style>\n",
       "<table border=\"1\" class=\"dataframe\">\n",
       "  <thead>\n",
       "    <tr style=\"text-align: right;\">\n",
       "      <th></th>\n",
       "      <th>test_date</th>\n",
       "      <th>cough</th>\n",
       "      <th>fever</th>\n",
       "      <th>sore_throat</th>\n",
       "      <th>shortness_of_breath</th>\n",
       "      <th>head_ache</th>\n",
       "      <th>corona_result</th>\n",
       "      <th>age_60_and_above</th>\n",
       "      <th>gender</th>\n",
       "      <th>test_indication</th>\n",
       "    </tr>\n",
       "  </thead>\n",
       "  <tbody>\n",
       "    <tr>\n",
       "      <th>0</th>\n",
       "      <td>2022-02-17</td>\n",
       "      <td>0</td>\n",
       "      <td>0</td>\n",
       "      <td>0</td>\n",
       "      <td>0</td>\n",
       "      <td>0</td>\n",
       "      <td>חיובי</td>\n",
       "      <td>No</td>\n",
       "      <td>נקבה</td>\n",
       "      <td>Other</td>\n",
       "    </tr>\n",
       "    <tr>\n",
       "      <th>1</th>\n",
       "      <td>2022-02-17</td>\n",
       "      <td>0</td>\n",
       "      <td>0</td>\n",
       "      <td>0</td>\n",
       "      <td>0</td>\n",
       "      <td>0</td>\n",
       "      <td>שלילי</td>\n",
       "      <td>No</td>\n",
       "      <td>נקבה</td>\n",
       "      <td>Other</td>\n",
       "    </tr>\n",
       "    <tr>\n",
       "      <th>2</th>\n",
       "      <td>2022-02-17</td>\n",
       "      <td>0</td>\n",
       "      <td>0</td>\n",
       "      <td>0</td>\n",
       "      <td>0</td>\n",
       "      <td>0</td>\n",
       "      <td>שלילי</td>\n",
       "      <td>No</td>\n",
       "      <td>נקבה</td>\n",
       "      <td>Other</td>\n",
       "    </tr>\n",
       "    <tr>\n",
       "      <th>3</th>\n",
       "      <td>2022-02-17</td>\n",
       "      <td>0</td>\n",
       "      <td>0</td>\n",
       "      <td>0</td>\n",
       "      <td>0</td>\n",
       "      <td>0</td>\n",
       "      <td>שלילי</td>\n",
       "      <td>No</td>\n",
       "      <td>NaN</td>\n",
       "      <td>Other</td>\n",
       "    </tr>\n",
       "    <tr>\n",
       "      <th>4</th>\n",
       "      <td>2022-02-17</td>\n",
       "      <td>0</td>\n",
       "      <td>0</td>\n",
       "      <td>0</td>\n",
       "      <td>0</td>\n",
       "      <td>0</td>\n",
       "      <td>שלילי</td>\n",
       "      <td>No</td>\n",
       "      <td>NaN</td>\n",
       "      <td>Other</td>\n",
       "    </tr>\n",
       "    <tr>\n",
       "      <th>...</th>\n",
       "      <td>...</td>\n",
       "      <td>...</td>\n",
       "      <td>...</td>\n",
       "      <td>...</td>\n",
       "      <td>...</td>\n",
       "      <td>...</td>\n",
       "      <td>...</td>\n",
       "      <td>...</td>\n",
       "      <td>...</td>\n",
       "      <td>...</td>\n",
       "    </tr>\n",
       "    <tr>\n",
       "      <th>9053443</th>\n",
       "      <td>2020-03-11</td>\n",
       "      <td>0</td>\n",
       "      <td>1</td>\n",
       "      <td>0</td>\n",
       "      <td>1</td>\n",
       "      <td>0</td>\n",
       "      <td>שלילי</td>\n",
       "      <td>NaN</td>\n",
       "      <td>NaN</td>\n",
       "      <td>Abroad</td>\n",
       "    </tr>\n",
       "    <tr>\n",
       "      <th>9053444</th>\n",
       "      <td>2020-03-11</td>\n",
       "      <td>0</td>\n",
       "      <td>0</td>\n",
       "      <td>0</td>\n",
       "      <td>0</td>\n",
       "      <td>0</td>\n",
       "      <td>שלילי</td>\n",
       "      <td>NaN</td>\n",
       "      <td>NaN</td>\n",
       "      <td>Other</td>\n",
       "    </tr>\n",
       "    <tr>\n",
       "      <th>9053445</th>\n",
       "      <td>2020-03-11</td>\n",
       "      <td>0</td>\n",
       "      <td>0</td>\n",
       "      <td>0</td>\n",
       "      <td>0</td>\n",
       "      <td>0</td>\n",
       "      <td>שלילי</td>\n",
       "      <td>NaN</td>\n",
       "      <td>NaN</td>\n",
       "      <td>Other</td>\n",
       "    </tr>\n",
       "    <tr>\n",
       "      <th>9053446</th>\n",
       "      <td>2020-03-11</td>\n",
       "      <td>0</td>\n",
       "      <td>0</td>\n",
       "      <td>0</td>\n",
       "      <td>0</td>\n",
       "      <td>0</td>\n",
       "      <td>שלילי</td>\n",
       "      <td>NaN</td>\n",
       "      <td>NaN</td>\n",
       "      <td>Other</td>\n",
       "    </tr>\n",
       "    <tr>\n",
       "      <th>9053447</th>\n",
       "      <td>2020-03-11</td>\n",
       "      <td>1</td>\n",
       "      <td>0</td>\n",
       "      <td>0</td>\n",
       "      <td>1</td>\n",
       "      <td>0</td>\n",
       "      <td>שלילי</td>\n",
       "      <td>NaN</td>\n",
       "      <td>NaN</td>\n",
       "      <td>Abroad</td>\n",
       "    </tr>\n",
       "  </tbody>\n",
       "</table>\n",
       "<p>9053448 rows × 10 columns</p>\n",
       "</div>"
      ],
      "text/plain": [
       "          test_date  cough  fever  sore_throat  shortness_of_breath  \\\n",
       "0        2022-02-17      0      0            0                    0   \n",
       "1        2022-02-17      0      0            0                    0   \n",
       "2        2022-02-17      0      0            0                    0   \n",
       "3        2022-02-17      0      0            0                    0   \n",
       "4        2022-02-17      0      0            0                    0   \n",
       "...             ...    ...    ...          ...                  ...   \n",
       "9053443  2020-03-11      0      1            0                    1   \n",
       "9053444  2020-03-11      0      0            0                    0   \n",
       "9053445  2020-03-11      0      0            0                    0   \n",
       "9053446  2020-03-11      0      0            0                    0   \n",
       "9053447  2020-03-11      1      0            0                    1   \n",
       "\n",
       "         head_ache corona_result age_60_and_above gender test_indication  \n",
       "0                0         חיובי               No   נקבה           Other  \n",
       "1                0         שלילי               No   נקבה           Other  \n",
       "2                0         שלילי               No   נקבה           Other  \n",
       "3                0         שלילי               No    NaN           Other  \n",
       "4                0         שלילי               No    NaN           Other  \n",
       "...            ...           ...              ...    ...             ...  \n",
       "9053443          0         שלילי              NaN    NaN          Abroad  \n",
       "9053444          0         שלילי              NaN    NaN           Other  \n",
       "9053445          0         שלילי              NaN    NaN           Other  \n",
       "9053446          0         שלילי              NaN    NaN           Other  \n",
       "9053447          0         שלילי              NaN    NaN          Abroad  \n",
       "\n",
       "[9053448 rows x 10 columns]"
      ]
     },
     "execution_count": 134,
     "metadata": {},
     "output_type": "execute_result"
    }
   ],
   "source": [
    "df"
   ]
  },
  {
   "cell_type": "code",
   "execution_count": 135,
   "id": "5e0ea28a",
   "metadata": {},
   "outputs": [
    {
     "name": "stdout",
     "output_type": "stream",
     "text": [
      "<class 'pandas.core.frame.DataFrame'>\n",
      "RangeIndex: 9053448 entries, 0 to 9053447\n",
      "Data columns (total 10 columns):\n",
      " #   Column               Dtype \n",
      "---  ------               ----- \n",
      " 0   test_date            object\n",
      " 1   cough                int64 \n",
      " 2   fever                int64 \n",
      " 3   sore_throat          int64 \n",
      " 4   shortness_of_breath  int64 \n",
      " 5   head_ache            int64 \n",
      " 6   corona_result        object\n",
      " 7   age_60_and_above     object\n",
      " 8   gender               object\n",
      " 9   test_indication      object\n",
      "dtypes: int64(5), object(5)\n",
      "memory usage: 690.7+ MB\n"
     ]
    }
   ],
   "source": [
    "df.info()"
   ]
  },
  {
   "cell_type": "code",
   "execution_count": 136,
   "id": "f5ba7720",
   "metadata": {},
   "outputs": [
    {
     "data": {
      "text/html": [
       "<div>\n",
       "<style scoped>\n",
       "    .dataframe tbody tr th:only-of-type {\n",
       "        vertical-align: middle;\n",
       "    }\n",
       "\n",
       "    .dataframe tbody tr th {\n",
       "        vertical-align: top;\n",
       "    }\n",
       "\n",
       "    .dataframe thead th {\n",
       "        text-align: right;\n",
       "    }\n",
       "</style>\n",
       "<table border=\"1\" class=\"dataframe\">\n",
       "  <thead>\n",
       "    <tr style=\"text-align: right;\">\n",
       "      <th></th>\n",
       "      <th>test_date</th>\n",
       "      <th>cough</th>\n",
       "      <th>fever</th>\n",
       "      <th>sore_throat</th>\n",
       "      <th>shortness_of_breath</th>\n",
       "      <th>head_ache</th>\n",
       "      <th>corona_result</th>\n",
       "      <th>age_60_and_above</th>\n",
       "      <th>gender</th>\n",
       "      <th>test_indication</th>\n",
       "    </tr>\n",
       "  </thead>\n",
       "  <tbody>\n",
       "    <tr>\n",
       "      <th>0</th>\n",
       "      <td>2022-02-17</td>\n",
       "      <td>0</td>\n",
       "      <td>0</td>\n",
       "      <td>0</td>\n",
       "      <td>0</td>\n",
       "      <td>0</td>\n",
       "      <td>חיובי</td>\n",
       "      <td>No</td>\n",
       "      <td>נקבה</td>\n",
       "      <td>Other</td>\n",
       "    </tr>\n",
       "    <tr>\n",
       "      <th>1</th>\n",
       "      <td>2022-02-17</td>\n",
       "      <td>0</td>\n",
       "      <td>0</td>\n",
       "      <td>0</td>\n",
       "      <td>0</td>\n",
       "      <td>0</td>\n",
       "      <td>שלילי</td>\n",
       "      <td>No</td>\n",
       "      <td>נקבה</td>\n",
       "      <td>Other</td>\n",
       "    </tr>\n",
       "    <tr>\n",
       "      <th>2</th>\n",
       "      <td>2022-02-17</td>\n",
       "      <td>0</td>\n",
       "      <td>0</td>\n",
       "      <td>0</td>\n",
       "      <td>0</td>\n",
       "      <td>0</td>\n",
       "      <td>שלילי</td>\n",
       "      <td>No</td>\n",
       "      <td>נקבה</td>\n",
       "      <td>Other</td>\n",
       "    </tr>\n",
       "    <tr>\n",
       "      <th>3</th>\n",
       "      <td>2022-02-17</td>\n",
       "      <td>0</td>\n",
       "      <td>0</td>\n",
       "      <td>0</td>\n",
       "      <td>0</td>\n",
       "      <td>0</td>\n",
       "      <td>שלילי</td>\n",
       "      <td>No</td>\n",
       "      <td>NaN</td>\n",
       "      <td>Other</td>\n",
       "    </tr>\n",
       "    <tr>\n",
       "      <th>4</th>\n",
       "      <td>2022-02-17</td>\n",
       "      <td>0</td>\n",
       "      <td>0</td>\n",
       "      <td>0</td>\n",
       "      <td>0</td>\n",
       "      <td>0</td>\n",
       "      <td>שלילי</td>\n",
       "      <td>No</td>\n",
       "      <td>NaN</td>\n",
       "      <td>Other</td>\n",
       "    </tr>\n",
       "  </tbody>\n",
       "</table>\n",
       "</div>"
      ],
      "text/plain": [
       "    test_date  cough  fever  sore_throat  shortness_of_breath  head_ache  \\\n",
       "0  2022-02-17      0      0            0                    0          0   \n",
       "1  2022-02-17      0      0            0                    0          0   \n",
       "2  2022-02-17      0      0            0                    0          0   \n",
       "3  2022-02-17      0      0            0                    0          0   \n",
       "4  2022-02-17      0      0            0                    0          0   \n",
       "\n",
       "  corona_result age_60_and_above gender test_indication  \n",
       "0         חיובי               No   נקבה           Other  \n",
       "1         שלילי               No   נקבה           Other  \n",
       "2         שלילי               No   נקבה           Other  \n",
       "3         שלילי               No    NaN           Other  \n",
       "4         שלילי               No    NaN           Other  "
      ]
     },
     "execution_count": 136,
     "metadata": {},
     "output_type": "execute_result"
    }
   ],
   "source": [
    "df.head()"
   ]
  },
  {
   "cell_type": "markdown",
   "id": "e82b719a",
   "metadata": {},
   "source": [
    "### We will now change all the string data to int data:\n",
    "Female will be 0, male will be 1.\n",
    "<br> Negative will be 0, positive will be 1.\n",
    "<br> Under age 60 will be 0, Above will be 1"
   ]
  },
  {
   "cell_type": "code",
   "execution_count": 137,
   "id": "560ed8d4",
   "metadata": {},
   "outputs": [],
   "source": [
    "df.drop(df[df['corona_result'] == \"אחר\"].index, inplace = True)"
   ]
  },
  {
   "cell_type": "code",
   "execution_count": 138,
   "id": "46d90b56",
   "metadata": {},
   "outputs": [],
   "source": [
    "df['gender'] = df['gender'].replace({\"זכר\": 1, \"נקבה\": 0})\n",
    "df['corona_result'] = df['corona_result'].replace({\"חיובי\": 1, \"שלילי\": 0})\n",
    "df['age_60_and_above'] = df['age_60_and_above'].replace({\"Yes\": 1, \"No\": 0})\n"
   ]
  },
  {
   "cell_type": "code",
   "execution_count": 139,
   "id": "4146af51",
   "metadata": {},
   "outputs": [
    {
     "name": "stdout",
     "output_type": "stream",
     "text": [
      "<class 'pandas.core.frame.DataFrame'>\n",
      "Int64Index: 8858382 entries, 0 to 9053447\n",
      "Data columns (total 10 columns):\n",
      " #   Column               Dtype  \n",
      "---  ------               -----  \n",
      " 0   test_date            object \n",
      " 1   cough                int64  \n",
      " 2   fever                int64  \n",
      " 3   sore_throat          int64  \n",
      " 4   shortness_of_breath  int64  \n",
      " 5   head_ache            int64  \n",
      " 6   corona_result        int64  \n",
      " 7   age_60_and_above     float64\n",
      " 8   gender               float64\n",
      " 9   test_indication      object \n",
      "dtypes: float64(2), int64(6), object(2)\n",
      "memory usage: 743.4+ MB\n"
     ]
    }
   ],
   "source": [
    "df.info()"
   ]
  },
  {
   "cell_type": "code",
   "execution_count": 140,
   "id": "83d745b2",
   "metadata": {},
   "outputs": [
    {
     "data": {
      "text/html": [
       "<div>\n",
       "<style scoped>\n",
       "    .dataframe tbody tr th:only-of-type {\n",
       "        vertical-align: middle;\n",
       "    }\n",
       "\n",
       "    .dataframe tbody tr th {\n",
       "        vertical-align: top;\n",
       "    }\n",
       "\n",
       "    .dataframe thead th {\n",
       "        text-align: right;\n",
       "    }\n",
       "</style>\n",
       "<table border=\"1\" class=\"dataframe\">\n",
       "  <thead>\n",
       "    <tr style=\"text-align: right;\">\n",
       "      <th></th>\n",
       "      <th>cough</th>\n",
       "      <th>fever</th>\n",
       "      <th>sore_throat</th>\n",
       "      <th>shortness_of_breath</th>\n",
       "      <th>head_ache</th>\n",
       "      <th>corona_result</th>\n",
       "      <th>age_60_and_above</th>\n",
       "      <th>gender</th>\n",
       "    </tr>\n",
       "  </thead>\n",
       "  <tbody>\n",
       "    <tr>\n",
       "      <th>count</th>\n",
       "      <td>908643.000000</td>\n",
       "      <td>908643.000000</td>\n",
       "      <td>908643.000000</td>\n",
       "      <td>908643.000000</td>\n",
       "      <td>908643.000000</td>\n",
       "      <td>908643.0</td>\n",
       "      <td>873113.000000</td>\n",
       "      <td>854545.000000</td>\n",
       "    </tr>\n",
       "    <tr>\n",
       "      <th>mean</th>\n",
       "      <td>0.142531</td>\n",
       "      <td>0.121596</td>\n",
       "      <td>0.065954</td>\n",
       "      <td>0.017223</td>\n",
       "      <td>0.127806</td>\n",
       "      <td>1.0</td>\n",
       "      <td>0.127039</td>\n",
       "      <td>0.483181</td>\n",
       "    </tr>\n",
       "    <tr>\n",
       "      <th>std</th>\n",
       "      <td>0.349594</td>\n",
       "      <td>0.326818</td>\n",
       "      <td>0.248203</td>\n",
       "      <td>0.130103</td>\n",
       "      <td>0.333874</td>\n",
       "      <td>0.0</td>\n",
       "      <td>0.333016</td>\n",
       "      <td>0.499717</td>\n",
       "    </tr>\n",
       "    <tr>\n",
       "      <th>min</th>\n",
       "      <td>0.000000</td>\n",
       "      <td>0.000000</td>\n",
       "      <td>0.000000</td>\n",
       "      <td>0.000000</td>\n",
       "      <td>0.000000</td>\n",
       "      <td>1.0</td>\n",
       "      <td>0.000000</td>\n",
       "      <td>0.000000</td>\n",
       "    </tr>\n",
       "    <tr>\n",
       "      <th>25%</th>\n",
       "      <td>0.000000</td>\n",
       "      <td>0.000000</td>\n",
       "      <td>0.000000</td>\n",
       "      <td>0.000000</td>\n",
       "      <td>0.000000</td>\n",
       "      <td>1.0</td>\n",
       "      <td>0.000000</td>\n",
       "      <td>0.000000</td>\n",
       "    </tr>\n",
       "    <tr>\n",
       "      <th>50%</th>\n",
       "      <td>0.000000</td>\n",
       "      <td>0.000000</td>\n",
       "      <td>0.000000</td>\n",
       "      <td>0.000000</td>\n",
       "      <td>0.000000</td>\n",
       "      <td>1.0</td>\n",
       "      <td>0.000000</td>\n",
       "      <td>0.000000</td>\n",
       "    </tr>\n",
       "    <tr>\n",
       "      <th>75%</th>\n",
       "      <td>0.000000</td>\n",
       "      <td>0.000000</td>\n",
       "      <td>0.000000</td>\n",
       "      <td>0.000000</td>\n",
       "      <td>0.000000</td>\n",
       "      <td>1.0</td>\n",
       "      <td>0.000000</td>\n",
       "      <td>1.000000</td>\n",
       "    </tr>\n",
       "    <tr>\n",
       "      <th>max</th>\n",
       "      <td>1.000000</td>\n",
       "      <td>1.000000</td>\n",
       "      <td>1.000000</td>\n",
       "      <td>1.000000</td>\n",
       "      <td>1.000000</td>\n",
       "      <td>1.0</td>\n",
       "      <td>1.000000</td>\n",
       "      <td>1.000000</td>\n",
       "    </tr>\n",
       "  </tbody>\n",
       "</table>\n",
       "</div>"
      ],
      "text/plain": [
       "               cough          fever    sore_throat  shortness_of_breath  \\\n",
       "count  908643.000000  908643.000000  908643.000000        908643.000000   \n",
       "mean        0.142531       0.121596       0.065954             0.017223   \n",
       "std         0.349594       0.326818       0.248203             0.130103   \n",
       "min         0.000000       0.000000       0.000000             0.000000   \n",
       "25%         0.000000       0.000000       0.000000             0.000000   \n",
       "50%         0.000000       0.000000       0.000000             0.000000   \n",
       "75%         0.000000       0.000000       0.000000             0.000000   \n",
       "max         1.000000       1.000000       1.000000             1.000000   \n",
       "\n",
       "           head_ache  corona_result  age_60_and_above         gender  \n",
       "count  908643.000000       908643.0     873113.000000  854545.000000  \n",
       "mean        0.127806            1.0          0.127039       0.483181  \n",
       "std         0.333874            0.0          0.333016       0.499717  \n",
       "min         0.000000            1.0          0.000000       0.000000  \n",
       "25%         0.000000            1.0          0.000000       0.000000  \n",
       "50%         0.000000            1.0          0.000000       0.000000  \n",
       "75%         0.000000            1.0          0.000000       1.000000  \n",
       "max         1.000000            1.0          1.000000       1.000000  "
      ]
     },
     "execution_count": 140,
     "metadata": {},
     "output_type": "execute_result"
    }
   ],
   "source": [
    "df[df['corona_result']==1].describe()\n"
   ]
  },
  {
   "cell_type": "code",
   "execution_count": 141,
   "id": "a706abaf",
   "metadata": {},
   "outputs": [
    {
     "data": {
      "text/html": [
       "<div>\n",
       "<style scoped>\n",
       "    .dataframe tbody tr th:only-of-type {\n",
       "        vertical-align: middle;\n",
       "    }\n",
       "\n",
       "    .dataframe tbody tr th {\n",
       "        vertical-align: top;\n",
       "    }\n",
       "\n",
       "    .dataframe thead th {\n",
       "        text-align: right;\n",
       "    }\n",
       "</style>\n",
       "<table border=\"1\" class=\"dataframe\">\n",
       "  <thead>\n",
       "    <tr style=\"text-align: right;\">\n",
       "      <th></th>\n",
       "      <th>cough</th>\n",
       "      <th>fever</th>\n",
       "      <th>sore_throat</th>\n",
       "      <th>shortness_of_breath</th>\n",
       "      <th>head_ache</th>\n",
       "      <th>corona_result</th>\n",
       "      <th>age_60_and_above</th>\n",
       "      <th>gender</th>\n",
       "    </tr>\n",
       "  </thead>\n",
       "  <tbody>\n",
       "    <tr>\n",
       "      <th>count</th>\n",
       "      <td>7.949739e+06</td>\n",
       "      <td>7.949739e+06</td>\n",
       "      <td>7.949739e+06</td>\n",
       "      <td>7.949739e+06</td>\n",
       "      <td>7.949739e+06</td>\n",
       "      <td>7949739.0</td>\n",
       "      <td>6.109333e+06</td>\n",
       "      <td>6.485047e+06</td>\n",
       "    </tr>\n",
       "    <tr>\n",
       "      <th>mean</th>\n",
       "      <td>3.526871e-02</td>\n",
       "      <td>2.565342e-02</td>\n",
       "      <td>1.340597e-02</td>\n",
       "      <td>2.387500e-03</td>\n",
       "      <td>2.584274e-02</td>\n",
       "      <td>0.0</td>\n",
       "      <td>1.333741e-01</td>\n",
       "      <td>4.829492e-01</td>\n",
       "    </tr>\n",
       "    <tr>\n",
       "      <th>std</th>\n",
       "      <td>1.844582e-01</td>\n",
       "      <td>1.580991e-01</td>\n",
       "      <td>1.150055e-01</td>\n",
       "      <td>4.880369e-02</td>\n",
       "      <td>1.586660e-01</td>\n",
       "      <td>0.0</td>\n",
       "      <td>3.399787e-01</td>\n",
       "      <td>4.997092e-01</td>\n",
       "    </tr>\n",
       "    <tr>\n",
       "      <th>min</th>\n",
       "      <td>0.000000e+00</td>\n",
       "      <td>0.000000e+00</td>\n",
       "      <td>0.000000e+00</td>\n",
       "      <td>0.000000e+00</td>\n",
       "      <td>0.000000e+00</td>\n",
       "      <td>0.0</td>\n",
       "      <td>0.000000e+00</td>\n",
       "      <td>0.000000e+00</td>\n",
       "    </tr>\n",
       "    <tr>\n",
       "      <th>25%</th>\n",
       "      <td>0.000000e+00</td>\n",
       "      <td>0.000000e+00</td>\n",
       "      <td>0.000000e+00</td>\n",
       "      <td>0.000000e+00</td>\n",
       "      <td>0.000000e+00</td>\n",
       "      <td>0.0</td>\n",
       "      <td>0.000000e+00</td>\n",
       "      <td>0.000000e+00</td>\n",
       "    </tr>\n",
       "    <tr>\n",
       "      <th>50%</th>\n",
       "      <td>0.000000e+00</td>\n",
       "      <td>0.000000e+00</td>\n",
       "      <td>0.000000e+00</td>\n",
       "      <td>0.000000e+00</td>\n",
       "      <td>0.000000e+00</td>\n",
       "      <td>0.0</td>\n",
       "      <td>0.000000e+00</td>\n",
       "      <td>0.000000e+00</td>\n",
       "    </tr>\n",
       "    <tr>\n",
       "      <th>75%</th>\n",
       "      <td>0.000000e+00</td>\n",
       "      <td>0.000000e+00</td>\n",
       "      <td>0.000000e+00</td>\n",
       "      <td>0.000000e+00</td>\n",
       "      <td>0.000000e+00</td>\n",
       "      <td>0.0</td>\n",
       "      <td>0.000000e+00</td>\n",
       "      <td>1.000000e+00</td>\n",
       "    </tr>\n",
       "    <tr>\n",
       "      <th>max</th>\n",
       "      <td>1.000000e+00</td>\n",
       "      <td>1.000000e+00</td>\n",
       "      <td>1.000000e+00</td>\n",
       "      <td>1.000000e+00</td>\n",
       "      <td>1.000000e+00</td>\n",
       "      <td>0.0</td>\n",
       "      <td>1.000000e+00</td>\n",
       "      <td>1.000000e+00</td>\n",
       "    </tr>\n",
       "  </tbody>\n",
       "</table>\n",
       "</div>"
      ],
      "text/plain": [
       "              cough         fever   sore_throat  shortness_of_breath  \\\n",
       "count  7.949739e+06  7.949739e+06  7.949739e+06         7.949739e+06   \n",
       "mean   3.526871e-02  2.565342e-02  1.340597e-02         2.387500e-03   \n",
       "std    1.844582e-01  1.580991e-01  1.150055e-01         4.880369e-02   \n",
       "min    0.000000e+00  0.000000e+00  0.000000e+00         0.000000e+00   \n",
       "25%    0.000000e+00  0.000000e+00  0.000000e+00         0.000000e+00   \n",
       "50%    0.000000e+00  0.000000e+00  0.000000e+00         0.000000e+00   \n",
       "75%    0.000000e+00  0.000000e+00  0.000000e+00         0.000000e+00   \n",
       "max    1.000000e+00  1.000000e+00  1.000000e+00         1.000000e+00   \n",
       "\n",
       "          head_ache  corona_result  age_60_and_above        gender  \n",
       "count  7.949739e+06      7949739.0      6.109333e+06  6.485047e+06  \n",
       "mean   2.584274e-02            0.0      1.333741e-01  4.829492e-01  \n",
       "std    1.586660e-01            0.0      3.399787e-01  4.997092e-01  \n",
       "min    0.000000e+00            0.0      0.000000e+00  0.000000e+00  \n",
       "25%    0.000000e+00            0.0      0.000000e+00  0.000000e+00  \n",
       "50%    0.000000e+00            0.0      0.000000e+00  0.000000e+00  \n",
       "75%    0.000000e+00            0.0      0.000000e+00  1.000000e+00  \n",
       "max    1.000000e+00            0.0      1.000000e+00  1.000000e+00  "
      ]
     },
     "execution_count": 141,
     "metadata": {},
     "output_type": "execute_result"
    }
   ],
   "source": [
    "df[df['corona_result']==0].describe()"
   ]
  },
  {
   "cell_type": "code",
   "execution_count": 142,
   "id": "9d2f238f",
   "metadata": {},
   "outputs": [
    {
     "data": {
      "text/plain": [
       "0.0    3794744\n",
       "1.0    3544848\n",
       "Name: gender, dtype: int64"
      ]
     },
     "execution_count": 142,
     "metadata": {},
     "output_type": "execute_result"
    }
   ],
   "source": [
    "df['gender'].value_counts()"
   ]
  },
  {
   "cell_type": "markdown",
   "id": "9c44dfcc",
   "metadata": {},
   "source": [
    "### Now we will clean all the NaN Data"
   ]
  },
  {
   "cell_type": "code",
   "execution_count": 143,
   "id": "ce8ede15",
   "metadata": {},
   "outputs": [],
   "source": [
    "df.isnull().sum()\n",
    "df = df.dropna()"
   ]
  },
  {
   "cell_type": "code",
   "execution_count": 144,
   "id": "bd9989f2",
   "metadata": {},
   "outputs": [
    {
     "data": {
      "text/plain": [
       "(6207383, 10)"
      ]
     },
     "execution_count": 144,
     "metadata": {},
     "output_type": "execute_result"
    }
   ],
   "source": [
    "df.shape"
   ]
  },
  {
   "cell_type": "markdown",
   "id": "673a044b",
   "metadata": {},
   "source": [
    "After we cleaned around 3 milions row of the data, we can still see we have alot of data. we will take a sample from the data that feature distributions are preserved."
   ]
  },
  {
   "cell_type": "code",
   "execution_count": 145,
   "id": "fb2d6826",
   "metadata": {
    "scrolled": false
   },
   "outputs": [
    {
     "data": {
      "text/plain": [
       "(12414, 10)"
      ]
     },
     "execution_count": 145,
     "metadata": {},
     "output_type": "execute_result"
    }
   ],
   "source": [
    "\n",
    "sample_df = df.sample(int(len(df) * 0.002))\n",
    "sample_df.shape\n"
   ]
  },
  {
   "cell_type": "code",
   "execution_count": 146,
   "id": "ec093b4b",
   "metadata": {},
   "outputs": [],
   "source": [
    "sample_df.drop(sample_df[sample_df['corona_result'] == \"אחר\"].index, inplace = True)"
   ]
  },
  {
   "cell_type": "code",
   "execution_count": 147,
   "id": "66bee087",
   "metadata": {},
   "outputs": [],
   "source": [
    "sample_df['gender'] = sample_df['gender'].replace({\"זכר\": 1, \"נקבה\": 0})\n",
    "sample_df['corona_result'] = sample_df['corona_result'].replace({\"חיובי\": 1, \"שלילי\": 0})\n",
    "sample_df['age_60_and_above'] = sample_df['age_60_and_above'].replace({\"Yes\": 1, \"No\": 0})"
   ]
  },
  {
   "cell_type": "code",
   "execution_count": 148,
   "id": "ccd4d2ce",
   "metadata": {},
   "outputs": [
    {
     "name": "stdout",
     "output_type": "stream",
     "text": [
      "<class 'pandas.core.frame.DataFrame'>\n",
      "Int64Index: 12414 entries, 4930647 to 5130747\n",
      "Data columns (total 10 columns):\n",
      " #   Column               Non-Null Count  Dtype  \n",
      "---  ------               --------------  -----  \n",
      " 0   test_date            12414 non-null  object \n",
      " 1   cough                12414 non-null  int64  \n",
      " 2   fever                12414 non-null  int64  \n",
      " 3   sore_throat          12414 non-null  int64  \n",
      " 4   shortness_of_breath  12414 non-null  int64  \n",
      " 5   head_ache            12414 non-null  int64  \n",
      " 6   corona_result        12414 non-null  int64  \n",
      " 7   age_60_and_above     12414 non-null  float64\n",
      " 8   gender               12414 non-null  float64\n",
      " 9   test_indication      12414 non-null  object \n",
      "dtypes: float64(2), int64(6), object(2)\n",
      "memory usage: 1.3+ MB\n"
     ]
    }
   ],
   "source": [
    "sample_df.info()"
   ]
  },
  {
   "cell_type": "markdown",
   "id": "eda44ed2",
   "metadata": {},
   "source": [
    "### info about the sample data"
   ]
  },
  {
   "cell_type": "code",
   "execution_count": 149,
   "id": "704489b7",
   "metadata": {},
   "outputs": [
    {
     "data": {
      "text/plain": [
       "0.0    6305\n",
       "1.0    6109\n",
       "Name: gender, dtype: int64"
      ]
     },
     "execution_count": 149,
     "metadata": {},
     "output_type": "execute_result"
    }
   ],
   "source": [
    "sample_df['gender'].value_counts()"
   ]
  },
  {
   "cell_type": "code",
   "execution_count": 150,
   "id": "b4eb8abf",
   "metadata": {},
   "outputs": [],
   "source": [
    "cough_sample = sample_df['cough'] == 1\n",
    "fever_sample = sample_df['fever'] == 1\n",
    "sore_throat_sample = sample_df['sore_throat']== 1\n",
    "shortness_of_breath_sample = sample_df['shortness_of_breath']==1\n",
    "head_ache_sample = sample_df['head_ache']==1\n",
    "corona_result_sample = sample_df['corona_result']==1\n",
    "age_60_and_above_sample = sample_df['age_60_and_above']==1\n",
    "\n",
    "cough_sample = cough_sample.sum()\n",
    "fever_sample =fever_sample.sum()\n",
    "sore_throat_sample=sore_throat_sample.sum()\n",
    "shortness_of_breath_sample=shortness_of_breath_sample.sum()\n",
    "head_ache_sample=head_ache_sample.sum()\n",
    "corona_result_sample=corona_result_sample.sum()\n",
    "age_60_and_above_sample=age_60_and_above_sample.sum()"
   ]
  },
  {
   "cell_type": "code",
   "execution_count": 151,
   "id": "f7cdcd9d",
   "metadata": {},
   "outputs": [
    {
     "data": {
      "text/html": [
       "<div>\n",
       "<style scoped>\n",
       "    .dataframe tbody tr th:only-of-type {\n",
       "        vertical-align: middle;\n",
       "    }\n",
       "\n",
       "    .dataframe tbody tr th {\n",
       "        vertical-align: top;\n",
       "    }\n",
       "\n",
       "    .dataframe thead th {\n",
       "        text-align: right;\n",
       "    }\n",
       "</style>\n",
       "<table border=\"1\" class=\"dataframe\">\n",
       "  <thead>\n",
       "    <tr style=\"text-align: right;\">\n",
       "      <th></th>\n",
       "      <th>colums</th>\n",
       "      <th>count</th>\n",
       "    </tr>\n",
       "  </thead>\n",
       "  <tbody>\n",
       "    <tr>\n",
       "      <th>0</th>\n",
       "      <td>cough</td>\n",
       "      <td>627</td>\n",
       "    </tr>\n",
       "    <tr>\n",
       "      <th>1</th>\n",
       "      <td>fever</td>\n",
       "      <td>506</td>\n",
       "    </tr>\n",
       "    <tr>\n",
       "      <th>2</th>\n",
       "      <td>sore_throat</td>\n",
       "      <td>269</td>\n",
       "    </tr>\n",
       "    <tr>\n",
       "      <th>3</th>\n",
       "      <td>shortness_of_breath</td>\n",
       "      <td>54</td>\n",
       "    </tr>\n",
       "    <tr>\n",
       "      <th>4</th>\n",
       "      <td>head_ache</td>\n",
       "      <td>526</td>\n",
       "    </tr>\n",
       "    <tr>\n",
       "      <th>5</th>\n",
       "      <td>corona_result</td>\n",
       "      <td>1651</td>\n",
       "    </tr>\n",
       "    <tr>\n",
       "      <th>6</th>\n",
       "      <td>age_60_and_above</td>\n",
       "      <td>1595</td>\n",
       "    </tr>\n",
       "  </tbody>\n",
       "</table>\n",
       "</div>"
      ],
      "text/plain": [
       "                colums  count\n",
       "0                cough    627\n",
       "1                fever    506\n",
       "2          sore_throat    269\n",
       "3  shortness_of_breath     54\n",
       "4            head_ache    526\n",
       "5        corona_result   1651\n",
       "6     age_60_and_above   1595"
      ]
     },
     "execution_count": 151,
     "metadata": {},
     "output_type": "execute_result"
    }
   ],
   "source": [
    "Distribution_sample={'colums':['cough','fever','sore_throat','shortness_of_breath','head_ache', 'corona_result','age_60_and_above'],\n",
    "                     'count':[cough_sample,fever_sample,sore_throat_sample,shortness_of_breath_sample,head_ache_sample,corona_result_sample,age_60_and_above_sample]}\n",
    "\n",
    "Distribution_sample=pd.DataFrame(data=Distribution_sample,index=range(7))\n",
    "Distribution_sample"
   ]
  },
  {
   "cell_type": "code",
   "execution_count": 152,
   "id": "92b8b019",
   "metadata": {},
   "outputs": [],
   "source": [
    "cough = df['cough'] == 1\n",
    "fever = df['fever'] == 1\n",
    "sore_throat = df['sore_throat']== 1\n",
    "shortness_of_breath = df['shortness_of_breath']==1\n",
    "head_ache = df['head_ache']==1\n",
    "corona_result = df['corona_result']==1\n",
    "age_60_and_above = df['age_60_and_above']==1\n",
    "\n",
    "cough = cough.sum()\n",
    "fever =fever.sum()\n",
    "sore_throat=sore_throat.sum()\n",
    "shortness_of_breath=shortness_of_breath.sum()\n",
    "head_ache=head_ache.sum()\n",
    "corona_result=corona_result.sum()\n",
    "age_60_and_above=age_60_and_above.sum()"
   ]
  },
  {
   "cell_type": "code",
   "execution_count": 153,
   "id": "407393a4",
   "metadata": {},
   "outputs": [
    {
     "data": {
      "text/html": [
       "<div>\n",
       "<style scoped>\n",
       "    .dataframe tbody tr th:only-of-type {\n",
       "        vertical-align: middle;\n",
       "    }\n",
       "\n",
       "    .dataframe tbody tr th {\n",
       "        vertical-align: top;\n",
       "    }\n",
       "\n",
       "    .dataframe thead th {\n",
       "        text-align: right;\n",
       "    }\n",
       "</style>\n",
       "<table border=\"1\" class=\"dataframe\">\n",
       "  <thead>\n",
       "    <tr style=\"text-align: right;\">\n",
       "      <th></th>\n",
       "      <th>colums</th>\n",
       "      <th>count</th>\n",
       "    </tr>\n",
       "  </thead>\n",
       "  <tbody>\n",
       "    <tr>\n",
       "      <th>0</th>\n",
       "      <td>cough</td>\n",
       "      <td>312000</td>\n",
       "    </tr>\n",
       "    <tr>\n",
       "      <th>1</th>\n",
       "      <td>fever</td>\n",
       "      <td>242341</td>\n",
       "    </tr>\n",
       "    <tr>\n",
       "      <th>2</th>\n",
       "      <td>sore_throat</td>\n",
       "      <td>132744</td>\n",
       "    </tr>\n",
       "    <tr>\n",
       "      <th>3</th>\n",
       "      <td>shortness_of_breath</td>\n",
       "      <td>26675</td>\n",
       "    </tr>\n",
       "    <tr>\n",
       "      <th>4</th>\n",
       "      <td>head_ache</td>\n",
       "      <td>258328</td>\n",
       "    </tr>\n",
       "    <tr>\n",
       "      <th>5</th>\n",
       "      <td>corona_result</td>\n",
       "      <td>826347</td>\n",
       "    </tr>\n",
       "    <tr>\n",
       "      <th>6</th>\n",
       "      <td>age_60_and_above</td>\n",
       "      <td>809527</td>\n",
       "    </tr>\n",
       "  </tbody>\n",
       "</table>\n",
       "</div>"
      ],
      "text/plain": [
       "                colums   count\n",
       "0                cough  312000\n",
       "1                fever  242341\n",
       "2          sore_throat  132744\n",
       "3  shortness_of_breath   26675\n",
       "4            head_ache  258328\n",
       "5        corona_result  826347\n",
       "6     age_60_and_above  809527"
      ]
     },
     "execution_count": 153,
     "metadata": {},
     "output_type": "execute_result"
    }
   ],
   "source": [
    "Distribution_orginal={'colums':['cough','fever','sore_throat','shortness_of_breath','head_ache','corona_result','age_60_and_above'],\n",
    "                      'count':[cough,fever,sore_throat,shortness_of_breath,head_ache,corona_result,age_60_and_above]}\n",
    "\n",
    "Distribution_orginal=pd.DataFrame(data=Distribution_orginal,index=range(7))\n",
    "Distribution_orginal"
   ]
  },
  {
   "cell_type": "code",
   "execution_count": 154,
   "id": "e2b481a4",
   "metadata": {
    "scrolled": false
   },
   "outputs": [
    {
     "data": {
      "text/plain": [
       "Text(0.5, 1.0, 'Distribution_sample')"
      ]
     },
     "execution_count": 154,
     "metadata": {},
     "output_type": "execute_result"
    },
    {
     "data": {
      "image/png": "[encoded data removed]",
      "text/plain": [
       "<Figure size 720x360 with 1 Axes>"
      ]
     },
     "metadata": {
      "needs_background": "light"
     },
     "output_type": "display_data"
    },
    {
     "data": {
      "image/png": "[encoded data removed]",
      "text/plain": [
       "<Figure size 720x360 with 1 Axes>"
      ]
     },
     "metadata": {
      "needs_background": "light"
     },
     "output_type": "display_data"
    }
   ],
   "source": [
    "fig = plt.figure(figsize=(10,5))\n",
    "sns.barplot('colums','count',data=Distribution_orginal).set_title('Distribution_orginal')\n",
    "\n",
    "fig = plt.figure(figsize=(10,5))\n",
    "sns.barplot('colums','count',data=Distribution_sample).set_title('Distribution_sample')"
   ]
  },
  {
   "cell_type": "code",
   "execution_count": 155,
   "id": "897b12c4",
   "metadata": {},
   "outputs": [
    {
     "data": {
      "text/html": [
       "<div>\n",
       "<style scoped>\n",
       "    .dataframe tbody tr th:only-of-type {\n",
       "        vertical-align: middle;\n",
       "    }\n",
       "\n",
       "    .dataframe tbody tr th {\n",
       "        vertical-align: top;\n",
       "    }\n",
       "\n",
       "    .dataframe thead th {\n",
       "        text-align: right;\n",
       "    }\n",
       "</style>\n",
       "<table border=\"1\" class=\"dataframe\">\n",
       "  <thead>\n",
       "    <tr style=\"text-align: right;\">\n",
       "      <th></th>\n",
       "      <th>cough</th>\n",
       "      <th>fever</th>\n",
       "      <th>sore_throat</th>\n",
       "      <th>shortness_of_breath</th>\n",
       "      <th>head_ache</th>\n",
       "      <th>corona_result</th>\n",
       "      <th>age_60_and_above</th>\n",
       "      <th>gender</th>\n",
       "    </tr>\n",
       "  </thead>\n",
       "  <tbody>\n",
       "    <tr>\n",
       "      <th>count</th>\n",
       "      <td>1651.000000</td>\n",
       "      <td>1651.000000</td>\n",
       "      <td>1651.000000</td>\n",
       "      <td>1651.000000</td>\n",
       "      <td>1651.000000</td>\n",
       "      <td>1651.0</td>\n",
       "      <td>1651.000000</td>\n",
       "      <td>1651.000000</td>\n",
       "    </tr>\n",
       "    <tr>\n",
       "      <th>mean</th>\n",
       "      <td>0.137492</td>\n",
       "      <td>0.110236</td>\n",
       "      <td>0.066021</td>\n",
       "      <td>0.015142</td>\n",
       "      <td>0.125379</td>\n",
       "      <td>1.0</td>\n",
       "      <td>0.121744</td>\n",
       "      <td>0.501514</td>\n",
       "    </tr>\n",
       "    <tr>\n",
       "      <th>std</th>\n",
       "      <td>0.344471</td>\n",
       "      <td>0.313279</td>\n",
       "      <td>0.248393</td>\n",
       "      <td>0.122156</td>\n",
       "      <td>0.331248</td>\n",
       "      <td>0.0</td>\n",
       "      <td>0.327089</td>\n",
       "      <td>0.500149</td>\n",
       "    </tr>\n",
       "    <tr>\n",
       "      <th>min</th>\n",
       "      <td>0.000000</td>\n",
       "      <td>0.000000</td>\n",
       "      <td>0.000000</td>\n",
       "      <td>0.000000</td>\n",
       "      <td>0.000000</td>\n",
       "      <td>1.0</td>\n",
       "      <td>0.000000</td>\n",
       "      <td>0.000000</td>\n",
       "    </tr>\n",
       "    <tr>\n",
       "      <th>25%</th>\n",
       "      <td>0.000000</td>\n",
       "      <td>0.000000</td>\n",
       "      <td>0.000000</td>\n",
       "      <td>0.000000</td>\n",
       "      <td>0.000000</td>\n",
       "      <td>1.0</td>\n",
       "      <td>0.000000</td>\n",
       "      <td>0.000000</td>\n",
       "    </tr>\n",
       "    <tr>\n",
       "      <th>50%</th>\n",
       "      <td>0.000000</td>\n",
       "      <td>0.000000</td>\n",
       "      <td>0.000000</td>\n",
       "      <td>0.000000</td>\n",
       "      <td>0.000000</td>\n",
       "      <td>1.0</td>\n",
       "      <td>0.000000</td>\n",
       "      <td>1.000000</td>\n",
       "    </tr>\n",
       "    <tr>\n",
       "      <th>75%</th>\n",
       "      <td>0.000000</td>\n",
       "      <td>0.000000</td>\n",
       "      <td>0.000000</td>\n",
       "      <td>0.000000</td>\n",
       "      <td>0.000000</td>\n",
       "      <td>1.0</td>\n",
       "      <td>0.000000</td>\n",
       "      <td>1.000000</td>\n",
       "    </tr>\n",
       "    <tr>\n",
       "      <th>max</th>\n",
       "      <td>1.000000</td>\n",
       "      <td>1.000000</td>\n",
       "      <td>1.000000</td>\n",
       "      <td>1.000000</td>\n",
       "      <td>1.000000</td>\n",
       "      <td>1.0</td>\n",
       "      <td>1.000000</td>\n",
       "      <td>1.000000</td>\n",
       "    </tr>\n",
       "  </tbody>\n",
       "</table>\n",
       "</div>"
      ],
      "text/plain": [
       "             cough        fever  sore_throat  shortness_of_breath  \\\n",
       "count  1651.000000  1651.000000  1651.000000          1651.000000   \n",
       "mean      0.137492     0.110236     0.066021             0.015142   \n",
       "std       0.344471     0.313279     0.248393             0.122156   \n",
       "min       0.000000     0.000000     0.000000             0.000000   \n",
       "25%       0.000000     0.000000     0.000000             0.000000   \n",
       "50%       0.000000     0.000000     0.000000             0.000000   \n",
       "75%       0.000000     0.000000     0.000000             0.000000   \n",
       "max       1.000000     1.000000     1.000000             1.000000   \n",
       "\n",
       "         head_ache  corona_result  age_60_and_above       gender  \n",
       "count  1651.000000         1651.0       1651.000000  1651.000000  \n",
       "mean      0.125379            1.0          0.121744     0.501514  \n",
       "std       0.331248            0.0          0.327089     0.500149  \n",
       "min       0.000000            1.0          0.000000     0.000000  \n",
       "25%       0.000000            1.0          0.000000     0.000000  \n",
       "50%       0.000000            1.0          0.000000     1.000000  \n",
       "75%       0.000000            1.0          0.000000     1.000000  \n",
       "max       1.000000            1.0          1.000000     1.000000  "
      ]
     },
     "execution_count": 155,
     "metadata": {},
     "output_type": "execute_result"
    }
   ],
   "source": [
    "sample_df[sample_df['corona_result']==1].describe()\n"
   ]
  },
  {
   "cell_type": "code",
   "execution_count": 156,
   "id": "048395e4",
   "metadata": {},
   "outputs": [
    {
     "data": {
      "text/html": [
       "<div>\n",
       "<style scoped>\n",
       "    .dataframe tbody tr th:only-of-type {\n",
       "        vertical-align: middle;\n",
       "    }\n",
       "\n",
       "    .dataframe tbody tr th {\n",
       "        vertical-align: top;\n",
       "    }\n",
       "\n",
       "    .dataframe thead th {\n",
       "        text-align: right;\n",
       "    }\n",
       "</style>\n",
       "<table border=\"1\" class=\"dataframe\">\n",
       "  <thead>\n",
       "    <tr style=\"text-align: right;\">\n",
       "      <th></th>\n",
       "      <th>test_date</th>\n",
       "      <th>cough</th>\n",
       "      <th>fever</th>\n",
       "      <th>sore_throat</th>\n",
       "      <th>shortness_of_breath</th>\n",
       "      <th>head_ache</th>\n",
       "      <th>corona_result</th>\n",
       "      <th>age_60_and_above</th>\n",
       "      <th>gender</th>\n",
       "      <th>test_indication</th>\n",
       "    </tr>\n",
       "  </thead>\n",
       "  <tbody>\n",
       "    <tr>\n",
       "      <th>4930647</th>\n",
       "      <td>2021-01-09</td>\n",
       "      <td>0</td>\n",
       "      <td>0</td>\n",
       "      <td>0</td>\n",
       "      <td>0</td>\n",
       "      <td>0</td>\n",
       "      <td>0</td>\n",
       "      <td>0.0</td>\n",
       "      <td>1.0</td>\n",
       "      <td>Other</td>\n",
       "    </tr>\n",
       "    <tr>\n",
       "      <th>8251015</th>\n",
       "      <td>2020-07-05</td>\n",
       "      <td>0</td>\n",
       "      <td>0</td>\n",
       "      <td>0</td>\n",
       "      <td>0</td>\n",
       "      <td>0</td>\n",
       "      <td>0</td>\n",
       "      <td>0.0</td>\n",
       "      <td>1.0</td>\n",
       "      <td>Other</td>\n",
       "    </tr>\n",
       "    <tr>\n",
       "      <th>585090</th>\n",
       "      <td>2022-01-16</td>\n",
       "      <td>0</td>\n",
       "      <td>0</td>\n",
       "      <td>0</td>\n",
       "      <td>0</td>\n",
       "      <td>0</td>\n",
       "      <td>0</td>\n",
       "      <td>0.0</td>\n",
       "      <td>1.0</td>\n",
       "      <td>Other</td>\n",
       "    </tr>\n",
       "    <tr>\n",
       "      <th>3952200</th>\n",
       "      <td>2021-03-06</td>\n",
       "      <td>0</td>\n",
       "      <td>0</td>\n",
       "      <td>0</td>\n",
       "      <td>0</td>\n",
       "      <td>0</td>\n",
       "      <td>0</td>\n",
       "      <td>0.0</td>\n",
       "      <td>1.0</td>\n",
       "      <td>Other</td>\n",
       "    </tr>\n",
       "    <tr>\n",
       "      <th>2699242</th>\n",
       "      <td>2021-07-30</td>\n",
       "      <td>0</td>\n",
       "      <td>0</td>\n",
       "      <td>0</td>\n",
       "      <td>0</td>\n",
       "      <td>0</td>\n",
       "      <td>0</td>\n",
       "      <td>0.0</td>\n",
       "      <td>0.0</td>\n",
       "      <td>Other</td>\n",
       "    </tr>\n",
       "  </tbody>\n",
       "</table>\n",
       "</div>"
      ],
      "text/plain": [
       "          test_date  cough  fever  sore_throat  shortness_of_breath  \\\n",
       "4930647  2021-01-09      0      0            0                    0   \n",
       "8251015  2020-07-05      0      0            0                    0   \n",
       "585090   2022-01-16      0      0            0                    0   \n",
       "3952200  2021-03-06      0      0            0                    0   \n",
       "2699242  2021-07-30      0      0            0                    0   \n",
       "\n",
       "         head_ache  corona_result  age_60_and_above  gender test_indication  \n",
       "4930647          0              0               0.0     1.0           Other  \n",
       "8251015          0              0               0.0     1.0           Other  \n",
       "585090           0              0               0.0     1.0           Other  \n",
       "3952200          0              0               0.0     1.0           Other  \n",
       "2699242          0              0               0.0     0.0           Other  "
      ]
     },
     "execution_count": 156,
     "metadata": {},
     "output_type": "execute_result"
    }
   ],
   "source": [
    "sample_df.head()"
   ]
  },
  {
   "cell_type": "code",
   "execution_count": 157,
   "id": "9a1262c3",
   "metadata": {},
   "outputs": [
    {
     "name": "stdout",
     "output_type": "stream",
     "text": [
      "<class 'pandas.core.frame.DataFrame'>\n",
      "Int64Index: 12414 entries, 4930647 to 5130747\n",
      "Data columns (total 10 columns):\n",
      " #   Column               Non-Null Count  Dtype  \n",
      "---  ------               --------------  -----  \n",
      " 0   test_date            12414 non-null  object \n",
      " 1   cough                12414 non-null  int64  \n",
      " 2   fever                12414 non-null  int64  \n",
      " 3   sore_throat          12414 non-null  int64  \n",
      " 4   shortness_of_breath  12414 non-null  int64  \n",
      " 5   head_ache            12414 non-null  int64  \n",
      " 6   corona_result        12414 non-null  int64  \n",
      " 7   age_60_and_above     12414 non-null  float64\n",
      " 8   gender               12414 non-null  float64\n",
      " 9   test_indication      12414 non-null  object \n",
      "dtypes: float64(2), int64(6), object(2)\n",
      "memory usage: 1.3+ MB\n"
     ]
    }
   ],
   "source": [
    "sample_df.info()"
   ]
  },
  {
   "cell_type": "code",
   "execution_count": 158,
   "id": "c86dd106",
   "metadata": {},
   "outputs": [
    {
     "data": {
      "image/png": "[encoded data removed]",
      "text/plain": [
       "<Figure size 504x504 with 1 Axes>"
      ]
     },
     "metadata": {},
     "output_type": "display_data"
    }
   ],
   "source": [
    "sample_df_negative = sample_df['corona_result'] == 0\n",
    "sample_df_positive = sample_df['corona_result'] == 1\n",
    "\n",
    "labels = 'Positive Cases', 'Negative Cases'\n",
    "sizes = [sample_df_positive.sum(), sample_df_negative.sum()]\n",
    "colors = ['lightblue', 'pink']\n",
    "explode = (0.5, 0) \n",
    "\n",
    "fig, axs = plt.subplots(figsize=(7, 7))\n",
    "plt.pie(sizes, explode=explode, labels=labels, colors=colors,\n",
    "autopct='%1.1f%%', shadow=True, startangle=0)\n",
    "\n",
    "\n",
    "plt.show()"
   ]
  },
  {
   "cell_type": "code",
   "execution_count": 159,
   "id": "a8955208",
   "metadata": {},
   "outputs": [
    {
     "data": {
      "image/png": "[encoded data removed]",
      "text/plain": [
       "<Figure size 936x936 with 8 Axes>"
      ]
     },
     "metadata": {},
     "output_type": "display_data"
    }
   ],
   "source": [
    "fig, ax = plt.subplots(4,2 ,figsize = (13,13))\n",
    "((ax1, ax2) , (ax3, ax4),(ax5, ax6) , (ax7, ax8)) = ax\n",
    "labels = [\"doesnt have head ache \", \"have head ache\"]\n",
    "values = sample_df[(sample_df['head_ache']==1)]['corona_result'].value_counts().tolist()\n",
    "ax1.pie(x=values, labels=labels, autopct=\"%1.1f%%\", shadow=True , explode=[0, 0.05])\n",
    "ax1.set_title(\"Head ache among the tested people\", fontdict={'fontsize': 14})\n",
    "\n",
    "labels = [\"Negative with head ache \", \"Positve with head ache\"]\n",
    "values = sample_df[(sample_df['corona_result']==1)]['head_ache'].value_counts().tolist()\n",
    "ax2.pie(x=values, labels=labels, autopct=\"%1.1f%%\", shadow=True , explode=[0, 0.5])\n",
    "ax2.set_title(\"Head ache distrubtion\", fontdict={'fontsize': 14})\n",
    "\n",
    "labels = [\"dont have fever\", \"have fever\"]\n",
    "values = sample_df[(sample_df['fever']==1)]['corona_result'].value_counts().tolist()\n",
    "ax3.pie(x=values, labels=labels, autopct=\"%1.1f%%\", shadow=True , explode=[0, 0.05])\n",
    "ax3.set_title(\"Fever among the tested people\", fontdict={'fontsize': 14})\n",
    "\n",
    "labels = [\"Negative with fever \", \"Postive with fever\"]\n",
    "values = sample_df[(sample_df['corona_result']==1)]['fever'].value_counts().tolist()\n",
    "ax4.pie(x=values, labels=labels, autopct=\"%1.1f%%\", shadow=True , explode=[0, 0.5])\n",
    "ax4.set_title(\"Fever distrubtion\", fontdict={'fontsize': 14})\n",
    "\n",
    "labels = [\"dont have cough\", \"have cough\"]\n",
    "values = sample_df[(sample_df['cough']==1)]['corona_result'].value_counts().tolist()\n",
    "ax5.pie(x=values, labels=labels, autopct=\"%1.1f%%\", shadow=True , explode=[0, 0.05])\n",
    "ax5.set_title(\"Cough among the tested people\", fontdict={'fontsize': 14})\n",
    "\n",
    "labels = [\"Negative with cough \", \"Postive with cough\"]\n",
    "values = sample_df[(sample_df['corona_result']==1)]['cough'].value_counts().tolist()\n",
    "ax6.pie(x=values, labels=labels, autopct=\"%1.1f%%\", shadow=True , explode=[0, 0.5])\n",
    "ax6.set_title(\"Cough distrubtion\", fontdict={'fontsize': 14})\n",
    "\n",
    "labels = [\"dont have sore throat\", \"have sore throat\"]\n",
    "values = sample_df[(sample_df['sore_throat']==1)]['corona_result'].value_counts().tolist()\n",
    "ax7.pie(x=values, labels=labels, autopct=\"%1.1f%%\", shadow=True , explode=[0, 0.05])\n",
    "ax7.set_title(\"Sore throat among the tested people\", fontdict={'fontsize': 14})\n",
    "\n",
    "labels = [\"Negative with sore throat \", \"Postive with sore throat\"]\n",
    "values = sample_df[(sample_df['corona_result']==1)]['sore_throat'].value_counts().tolist()\n",
    "ax8.pie(x=values, labels=labels, autopct=\"%1.1f%%\", shadow=True , explode=[0, 0.5])\n",
    "ax8.set_title(\"Sore throat distrubtion\", fontdict={'fontsize': 14})\n",
    "\n",
    "\n",
    "plt.show()"
   ]
  },
  {
   "cell_type": "markdown",
   "id": "30ac9794",
   "metadata": {},
   "source": [
    "# Corolation"
   ]
  },
  {
   "cell_type": "code",
   "execution_count": 160,
   "id": "cf1fc2d4",
   "metadata": {
    "scrolled": true
   },
   "outputs": [
    {
     "data": {
      "text/html": [
       "<div>\n",
       "<style scoped>\n",
       "    .dataframe tbody tr th:only-of-type {\n",
       "        vertical-align: middle;\n",
       "    }\n",
       "\n",
       "    .dataframe tbody tr th {\n",
       "        vertical-align: top;\n",
       "    }\n",
       "\n",
       "    .dataframe thead th {\n",
       "        text-align: right;\n",
       "    }\n",
       "</style>\n",
       "<table border=\"1\" class=\"dataframe\">\n",
       "  <thead>\n",
       "    <tr style=\"text-align: right;\">\n",
       "      <th></th>\n",
       "      <th>cough</th>\n",
       "      <th>fever</th>\n",
       "      <th>sore_throat</th>\n",
       "      <th>shortness_of_breath</th>\n",
       "      <th>head_ache</th>\n",
       "      <th>corona_result</th>\n",
       "      <th>age_60_and_above</th>\n",
       "      <th>gender</th>\n",
       "    </tr>\n",
       "  </thead>\n",
       "  <tbody>\n",
       "    <tr>\n",
       "      <th>cough</th>\n",
       "      <td>1.000000</td>\n",
       "      <td>0.372883</td>\n",
       "      <td>0.289054</td>\n",
       "      <td>0.174797</td>\n",
       "      <td>0.342275</td>\n",
       "      <td>0.155571</td>\n",
       "      <td>0.066440</td>\n",
       "      <td>-0.007027</td>\n",
       "    </tr>\n",
       "    <tr>\n",
       "      <th>fever</th>\n",
       "      <td>0.372883</td>\n",
       "      <td>1.000000</td>\n",
       "      <td>0.195957</td>\n",
       "      <td>0.122561</td>\n",
       "      <td>0.310562</td>\n",
       "      <td>0.137612</td>\n",
       "      <td>0.012159</td>\n",
       "      <td>0.004885</td>\n",
       "    </tr>\n",
       "    <tr>\n",
       "      <th>sore_throat</th>\n",
       "      <td>0.289054</td>\n",
       "      <td>0.195957</td>\n",
       "      <td>1.000000</td>\n",
       "      <td>0.074231</td>\n",
       "      <td>0.320255</td>\n",
       "      <td>0.119303</td>\n",
       "      <td>0.037097</td>\n",
       "      <td>-0.014803</td>\n",
       "    </tr>\n",
       "    <tr>\n",
       "      <th>shortness_of_breath</th>\n",
       "      <td>0.174797</td>\n",
       "      <td>0.122561</td>\n",
       "      <td>0.074231</td>\n",
       "      <td>1.000000</td>\n",
       "      <td>0.138011</td>\n",
       "      <td>0.064229</td>\n",
       "      <td>0.007542</td>\n",
       "      <td>-0.006301</td>\n",
       "    </tr>\n",
       "    <tr>\n",
       "      <th>head_ache</th>\n",
       "      <td>0.342275</td>\n",
       "      <td>0.310562</td>\n",
       "      <td>0.320255</td>\n",
       "      <td>0.138011</td>\n",
       "      <td>1.000000</td>\n",
       "      <td>0.161394</td>\n",
       "      <td>0.000499</td>\n",
       "      <td>-0.031074</td>\n",
       "    </tr>\n",
       "    <tr>\n",
       "      <th>corona_result</th>\n",
       "      <td>0.155571</td>\n",
       "      <td>0.137612</td>\n",
       "      <td>0.119303</td>\n",
       "      <td>0.064229</td>\n",
       "      <td>0.161394</td>\n",
       "      <td>1.000000</td>\n",
       "      <td>-0.007888</td>\n",
       "      <td>0.007371</td>\n",
       "    </tr>\n",
       "    <tr>\n",
       "      <th>age_60_and_above</th>\n",
       "      <td>0.066440</td>\n",
       "      <td>0.012159</td>\n",
       "      <td>0.037097</td>\n",
       "      <td>0.007542</td>\n",
       "      <td>0.000499</td>\n",
       "      <td>-0.007888</td>\n",
       "      <td>1.000000</td>\n",
       "      <td>-0.028365</td>\n",
       "    </tr>\n",
       "    <tr>\n",
       "      <th>gender</th>\n",
       "      <td>-0.007027</td>\n",
       "      <td>0.004885</td>\n",
       "      <td>-0.014803</td>\n",
       "      <td>-0.006301</td>\n",
       "      <td>-0.031074</td>\n",
       "      <td>0.007371</td>\n",
       "      <td>-0.028365</td>\n",
       "      <td>1.000000</td>\n",
       "    </tr>\n",
       "  </tbody>\n",
       "</table>\n",
       "</div>"
      ],
      "text/plain": [
       "                        cough     fever  sore_throat  shortness_of_breath  \\\n",
       "cough                1.000000  0.372883     0.289054             0.174797   \n",
       "fever                0.372883  1.000000     0.195957             0.122561   \n",
       "sore_throat          0.289054  0.195957     1.000000             0.074231   \n",
       "shortness_of_breath  0.174797  0.122561     0.074231             1.000000   \n",
       "head_ache            0.342275  0.310562     0.320255             0.138011   \n",
       "corona_result        0.155571  0.137612     0.119303             0.064229   \n",
       "age_60_and_above     0.066440  0.012159     0.037097             0.007542   \n",
       "gender              -0.007027  0.004885    -0.014803            -0.006301   \n",
       "\n",
       "                     head_ache  corona_result  age_60_and_above    gender  \n",
       "cough                 0.342275       0.155571          0.066440 -0.007027  \n",
       "fever                 0.310562       0.137612          0.012159  0.004885  \n",
       "sore_throat           0.320255       0.119303          0.037097 -0.014803  \n",
       "shortness_of_breath   0.138011       0.064229          0.007542 -0.006301  \n",
       "head_ache             1.000000       0.161394          0.000499 -0.031074  \n",
       "corona_result         0.161394       1.000000         -0.007888  0.007371  \n",
       "age_60_and_above      0.000499      -0.007888          1.000000 -0.028365  \n",
       "gender               -0.031074       0.007371         -0.028365  1.000000  "
      ]
     },
     "execution_count": 160,
     "metadata": {},
     "output_type": "execute_result"
    }
   ],
   "source": [
    "sample_df.corr()"
   ]
  },
  {
   "cell_type": "code",
   "execution_count": 161,
   "id": "50be4c09",
   "metadata": {
    "scrolled": true
   },
   "outputs": [
    {
     "data": {
      "text/plain": [
       "<AxesSubplot:>"
      ]
     },
     "execution_count": 161,
     "metadata": {},
     "output_type": "execute_result"
    },
    {
     "data": {
      "image/png": "[encoded data removed]",
      "text/plain": [
       "<Figure size 1080x864 with 2 Axes>"
      ]
     },
     "metadata": {
      "needs_background": "light"
     },
     "output_type": "display_data"
    }
   ],
   "source": [
    "fig, ax = plt.subplots(figsize=(15,12))\n",
    "sns.heatmap(sample_df[['cough', 'fever', 'sore_throat', 'shortness_of_breath' ,'head_ache','corona_result','age_60_and_above', 'gender']].corr(),annot=True)"
   ]
  },
  {
   "cell_type": "markdown",
   "id": "4d5130b2",
   "metadata": {},
   "source": [
    "### Conclusion\n",
    "Using the hot map we noticed that there is no correlation between the following parameters:\n",
    "- Gender\n",
    "- Over the age of 60\n",
    "- Indication for testing\n",
    "\n",
    "So we decided to delete them."
   ]
  },
  {
   "cell_type": "code",
   "execution_count": 162,
   "id": "b249a818",
   "metadata": {},
   "outputs": [],
   "source": [
    "sample_df.drop(['age_60_and_above','gender' , 'test_indication','test_date'], axis=1, inplace=True)\n"
   ]
  },
  {
   "cell_type": "markdown",
   "id": "cc4adaf8",
   "metadata": {},
   "source": [
    "Among the variables that have a correlation we will see in a pie chart"
   ]
  },
  {
   "cell_type": "code",
   "execution_count": 163,
   "id": "bfb04a65",
   "metadata": {
    "scrolled": false
   },
   "outputs": [
    {
     "data": {
      "image/png": "[encoded data removed]",
      "text/plain": [
       "<Figure size 864x864 with 8 Axes>"
      ]
     },
     "metadata": {},
     "output_type": "display_data"
    }
   ],
   "source": [
    "fig, ax = plt.subplots(4,2 ,figsize = (12,12))\n",
    "((ax1, ax5) , (ax2, ax6),(ax3, ax7) , (ax4, ax8)) = ax\n",
    "\n",
    "sample_df_fever = sample_df['fever'] == 1\n",
    "sample_df_postive = sample_df['corona_result'] == 1\n",
    "labels = 'Positive Cases', 'With fever'\n",
    "sizes = [sample_df_positive.sum(), sample_df_fever.sum()]\n",
    "colors = ['lightblue', 'pink']\n",
    "explode = (0.05, 0) \n",
    "ax1.pie(sizes, explode=explode, labels=labels, colors=colors,\n",
    "autopct='%1.1f%%', shadow=True, startangle=20)\n",
    "\n",
    "sample_df_cough = sample_df['cough'] == 1\n",
    "sample_df_postive = sample_df['corona_result'] == 1\n",
    "labels = 'Positive Cases', 'With cough'\n",
    "sizes = [sample_df_positive.sum(), sample_df_cough.sum()]\n",
    "colors = ['lightblue', 'pink']\n",
    "explode = (0.05, 0) \n",
    "ax2.pie(sizes, explode=explode, labels=labels, colors=colors,\n",
    "autopct='%1.1f%%', shadow=True, startangle=20)\n",
    "\n",
    "sample_df_head_ache = sample_df['head_ache'] == 1\n",
    "sample_df_postive = sample_df['corona_result'] == 1\n",
    "labels = 'Positive Cases', 'With head_ache'\n",
    "sizes = [sample_df_positive.sum(), sample_df_head_ache.sum()]\n",
    "colors = ['lightblue', 'pink']\n",
    "explode = (0.05, 0) \n",
    "ax3.pie(sizes, explode=explode, labels=labels, colors=colors,\n",
    "autopct='%1.1f%%', shadow=True, startangle=20)\n",
    "\n",
    "sample_df_sore_throat = sample_df['sore_throat'] == 1\n",
    "sample_df_postive = sample_df['corona_result'] == 1\n",
    "labels = 'Positive Cases', 'With sore_throat'\n",
    "sizes = [sample_df_positive.sum(), sample_df_sore_throat.sum()]\n",
    "colors = ['lightblue', 'pink']\n",
    "explode = (0.05, 0) \n",
    "ax4.pie(sizes, explode=explode, labels=labels, colors=colors,\n",
    "autopct='%1.1f%%', shadow=True, startangle=20)\n",
    "\n",
    "sample_df_fever = sample_df['fever'] == 0\n",
    "sample_df_postive = sample_df['corona_result'] == 1\n",
    "labels = 'Positive Cases', 'Without fever'\n",
    "sizes = [sample_df_positive.sum(), sample_df_fever.sum()]\n",
    "colors = ['lightblue', 'pink']\n",
    "explode = (0.05, 0) \n",
    "ax5.pie(sizes, explode=explode, labels=labels, colors=colors,\n",
    "autopct='%1.1f%%', shadow=True, startangle=20)\n",
    "\n",
    "sample_df_cough = sample_df['cough'] == 0\n",
    "sample_df_postive = sample_df['corona_result'] == 1\n",
    "labels = 'Positive Cases', 'Without cough'\n",
    "sizes = [sample_df_positive.sum(), sample_df_cough.sum()]\n",
    "colors = ['lightblue', 'pink']\n",
    "explode = (0.05, 0) \n",
    "ax6.pie(sizes, explode=explode, labels=labels, colors=colors,\n",
    "autopct='%1.1f%%', shadow=True, startangle=20)\n",
    "\n",
    "sample_df_head_ache = sample_df['head_ache'] == 0\n",
    "sample_df_postive = sample_df['corona_result'] == 1\n",
    "labels = 'Positive Cases', 'Without head_ache'\n",
    "sizes = [sample_df_positive.sum(), sample_df_head_ache.sum()]\n",
    "colors = ['lightblue', 'pink']\n",
    "explode = (0.05, 0) \n",
    "ax7.pie(sizes, explode=explode, labels=labels, colors=colors,\n",
    "autopct='%1.1f%%', shadow=True, startangle=20)\n",
    "\n",
    "sample_df_sore_throat = sample_df['sore_throat'] == 0\n",
    "sample_df_postive = sample_df['corona_result'] == 1\n",
    "labels = 'Positive Cases', 'Without sore_throat'\n",
    "sizes = [sample_df_positive.sum(), sample_df_sore_throat.sum()]\n",
    "colors = ['lightblue', 'pink']\n",
    "explode = (0.05, 0) \n",
    "ax8.pie(sizes, explode=explode, labels=labels, colors=colors,\n",
    "autopct='%1.1f%%', shadow=True, startangle=20)\n",
    "\n",
    "plt.tight_layout()\n",
    "plt.show()\n"
   ]
  },
  {
   "cell_type": "markdown",
   "id": "d2e9bf7a",
   "metadata": {},
   "source": [
    "#  Train Test Split"
   ]
  },
  {
   "cell_type": "code",
   "execution_count": 164,
   "id": "f04cddb5",
   "metadata": {},
   "outputs": [],
   "source": [
    "X = sample_df.drop(columns=['corona_result'])\n",
    "Y = sample_df['corona_result']\n",
    "X_train, X_test, y_train, y_test = train_test_split(X, Y, test_size=0.2, random_state = 1111)"
   ]
  },
  {
   "cell_type": "code",
   "execution_count": 165,
   "id": "86925c3c",
   "metadata": {},
   "outputs": [
    {
     "name": "stdout",
     "output_type": "stream",
     "text": [
      "(2483, 5)\n",
      "(9931, 5)\n"
     ]
    }
   ],
   "source": [
    "print(X_test.shape)\n",
    "print(X_train.shape)"
   ]
  },
  {
   "cell_type": "markdown",
   "id": "6047a6b7",
   "metadata": {},
   "source": [
    "### Dummy model"
   ]
  },
  {
   "cell_type": "code",
   "execution_count": 166,
   "id": "6a18026d",
   "metadata": {},
   "outputs": [
    {
     "data": {
      "text/plain": [
       "0.867004994361205"
      ]
     },
     "execution_count": 166,
     "metadata": {},
     "output_type": "execute_result"
    }
   ],
   "source": [
    "dummy_clf = DummyClassifier(strategy=\"most_frequent\")\n",
    "dummy_clf.fit(X, Y)\n",
    "DummyClassifier(strategy='most_frequent')\n",
    "dummy_clf.predict(X)\n",
    "dummy_clf.score(X, Y)\n"
   ]
  },
  {
   "cell_type": "markdown",
   "id": "f646ce92",
   "metadata": {},
   "source": [
    "### We figured out that the data is imbalanced so we decied to add Synthetic data"
   ]
  },
  {
   "cell_type": "code",
   "execution_count": 167,
   "id": "a8d88322",
   "metadata": {},
   "outputs": [
    {
     "data": {
      "text/plain": [
       "0    10763\n",
       "1    10721\n",
       "Name: corona_result, dtype: int64"
      ]
     },
     "execution_count": 167,
     "metadata": {},
     "output_type": "execute_result"
    }
   ],
   "source": [
    "from sklearn.utils import resample\n",
    "\n",
    "\n",
    "df_1 = sample_df[sample_df.corona_result==1]\n",
    "df_2 = sample_df[sample_df.corona_result==0]\n",
    "\n",
    " \n",
    "# Upsample minority class\n",
    "df_1_upsampled = resample(df_1, \n",
    "                                 replace=True,     # sample with replacement\n",
    "                                 n_samples=10721,    # to match majority class\n",
    "                                 random_state=1) # reproducible results\n",
    "\n",
    "df_upsampled = pd.concat([df_1_upsampled, df_2])\n",
    " \n",
    "\n",
    "df_upsampled.corona_result.value_counts()"
   ]
  },
  {
   "cell_type": "code",
   "execution_count": 168,
   "id": "1d9867b0",
   "metadata": {},
   "outputs": [],
   "source": [
    "X = df_upsampled.drop(columns=['corona_result'])\n",
    "Y =df_upsampled['corona_result']\n",
    "X_train, X_test, y_train, y_test = train_test_split(X, Y, test_size=0.2, random_state = 1)"
   ]
  },
  {
   "cell_type": "code",
   "execution_count": 169,
   "id": "662bf3e0",
   "metadata": {},
   "outputs": [
    {
     "data": {
      "text/plain": [
       "0.5009774716067772"
      ]
     },
     "execution_count": 169,
     "metadata": {},
     "output_type": "execute_result"
    }
   ],
   "source": [
    "dummy_clf = DummyClassifier(strategy=\"most_frequent\")\n",
    "dummy_clf.fit(X, Y)\n",
    "DummyClassifier(strategy='most_frequent')\n",
    "dummy_clf.predict(X)\n",
    "dummy_clf.score(X, Y)"
   ]
  },
  {
   "cell_type": "code",
   "execution_count": 170,
   "id": "1279d14a",
   "metadata": {
    "scrolled": false
   },
   "outputs": [
    {
     "data": {
      "image/png": "[encoded data removed]",
      "text/plain": [
       "<Figure size 504x504 with 1 Axes>"
      ]
     },
     "metadata": {},
     "output_type": "display_data"
    }
   ],
   "source": [
    "sample_df_negative = df_upsampled['corona_result'] == 0\n",
    "sample_df_positive = df_upsampled['corona_result'] == 1\n",
    "\n",
    "labels = 'Positive Cases', 'Negative Cases'\n",
    "sizes = [sample_df_positive.sum(), sample_df_negative.sum()]\n",
    "colors = ['lightblue', 'pink']\n",
    "explode = (0.05, 0) \n",
    "\n",
    "fig, axs = plt.subplots(figsize=(7, 7))\n",
    "plt.pie(sizes, explode=explode, labels=labels, colors=colors,\n",
    "autopct='%1.f%%', shadow=True, startangle=1)\n",
    "\n",
    "\n",
    "plt.show()"
   ]
  },
  {
   "cell_type": "markdown",
   "id": "277aa690",
   "metadata": {},
   "source": [
    "# KNN"
   ]
  },
  {
   "cell_type": "code",
   "execution_count": 234,
   "id": "53dbdbb8",
   "metadata": {},
   "outputs": [
    {
     "name": "stdout",
     "output_type": "stream",
     "text": [
      "Accuracy: 0.5866883872469164\n",
      "              precision    recall  f1-score   support\n",
      "\n",
      "           0       0.55      0.94      0.69      2108\n",
      "           1       0.81      0.25      0.38      2189\n",
      "\n",
      "    accuracy                           0.59      4297\n",
      "   macro avg       0.68      0.59      0.53      4297\n",
      "weighted avg       0.68      0.59      0.53      4297\n",
      "\n"
     ]
    },
    {
     "data": {
      "text/plain": [
       "0.5932118761827077"
      ]
     },
     "execution_count": 234,
     "metadata": {},
     "output_type": "execute_result"
    }
   ],
   "source": [
    "model = KNeighborsClassifier(n_jobs=-1)\n",
    "model.fit(X_train,y_train)\n",
    "prediction=model.predict(X_test)\n",
    "print(\"Accuracy:\",metrics.accuracy_score(prediction,y_test))\n",
    "confusion_matrix=metrics.confusion_matrix(prediction,y_test)\n",
    "confusion_matrix\n",
    "\n",
    "print(classification_report(y_test, prediction))\n",
    "roc_auc_score(y_test, prediction)\n"
   ]
  },
  {
   "cell_type": "code",
   "execution_count": 226,
   "id": "0780634a",
   "metadata": {
    "scrolled": false
   },
   "outputs": [
    {
     "data": {
      "text/plain": [
       "Text(0, 0.5, 'Testing Accuracy')"
      ]
     },
     "execution_count": 226,
     "metadata": {},
     "output_type": "execute_result"
    },
    {
     "data": {
      "image/png": "[encoded data removed]",
      "text/plain": [
       "<Figure size 432x288 with 1 Axes>"
      ]
     },
     "metadata": {
      "needs_background": "light"
     },
     "output_type": "display_data"
    }
   ],
   "source": [
    "k_range = list(range(1, 31))\n",
    "scores = []\n",
    "for k in k_range:\n",
    "    knn = KNeighborsClassifier(n_neighbors=k)\n",
    "    knn.fit(X_train,y_train)\n",
    "    prediction = knn.predict(X_test)\n",
    "    scores.append(metrics.accuracy_score(prediction, y_test))\n",
    "    \n",
    "plt.plot(k_range, scores)\n",
    "plt.xlabel('Value of K for KNN')\n",
    "plt.ylabel('Testing Accuracy')"
   ]
  },
  {
   "cell_type": "code",
   "execution_count": 227,
   "id": "88da66ea",
   "metadata": {},
   "outputs": [
    {
     "name": "stdout",
     "output_type": "stream",
     "text": [
      "Accuracy: 0.5941354433325576\n"
     ]
    }
   ],
   "source": [
    "best_model = KNeighborsClassifier(n_neighbors=16, metric='manhattan', weights='distance')\n",
    "best_model.fit(X_train,y_train)\n",
    "prediction=best_model.predict(X_test)\n",
    "print(\"Accuracy:\",metrics.accuracy_score(prediction,y_test))"
   ]
  },
  {
   "cell_type": "code",
   "execution_count": null,
   "id": "dfc67b66",
   "metadata": {},
   "outputs": [],
   "source": [
    "leaf_size = list(range(1,50))\n",
    "n_neighbors = list(range(1,30))\n",
    "p=[1,2]\n",
    "hyperparameters = dict(leaf_size=leaf_size, n_neighbors=n_neighbors, p=p)\n",
    "knn_2 = KNeighborsClassifier()\n",
    "clf = GridSearchCV(knn_2, hyperparameters, cv=5)\n",
    "best_model = clf.fit(X_train,y_train)\n",
    "print('Best leaf_size:', best_model.best_estimator_.get_params()['leaf_size'])\n",
    "print('Best p:', best_model.best_estimator_.get_params()['p'])\n",
    "print('Best n_neighbors:', best_model.best_estimator_.get_params()['n_neighbors'])"
   ]
  },
  {
   "cell_type": "code",
   "execution_count": null,
   "id": "16dc4bbf",
   "metadata": {},
   "outputs": [],
   "source": [
    "knn=KNeighborsClassifier()\n",
    "k_range = list(range(2,31))\n",
    "weight_options = ['uniform', 'distance']\n",
    "metrics_options = ['euclidean', 'manhattan']\n",
    "param_grid = dict(n_neighbors=k_range, weights=weight_options, metric=metrics_options)\n",
    "grid=GridSearchCV(knn, param_grid, cv=3, scoring='accuracy')\n",
    "grid.fit(X_train,y_train)\n",
    "print(grid.best_score_)\n",
    "print(grid.best_params_)"
   ]
  },
  {
   "cell_type": "markdown",
   "id": "9fe4ca0b",
   "metadata": {},
   "source": [
    "# Forest"
   ]
  },
  {
   "cell_type": "code",
   "execution_count": null,
   "id": "9e6c5f10",
   "metadata": {},
   "outputs": [],
   "source": [
    "random_for = RandomForestClassifier()\n",
    "randomfor_score = cross_val_score(random_for, products, category, cv=kf, scoring='accuracy').mean()\n",
    "print(randomfor_score)"
   ]
  },
  {
   "attachments": {
    "image-2.png": {
     "image/png": "[encoded data removed]"
    },
    "image.png": {
     "image/png": "[encoded data removed]"
    }
   },
   "cell_type": "markdown",
   "id": "7731cae8",
   "metadata": {},
   "source": [
    "## ROC curve\n",
    "\n",
    "An ROC curve (receiver operating characteristic curve) is a graph showing the performance of a classification model at all classification thresholds. This curve plots two parameters:\n",
    "\n",
    "-True Positive Rate\n",
    "-False Positive Rate\n",
    "\n",
    "True Positive Rate (TPR) is a synonym for recall and is therefore defined as follows:\n",
    "![image-2.png](attachment:image-2.png)\n",
    "\n",
    "False Positive Rate (FPR) is defined as follows:\n",
    "![image.png](attachment:image.png)"
   ]
  },
  {
   "cell_type": "code",
   "execution_count": null,
   "id": "840e53de",
   "metadata": {},
   "outputs": [],
   "source": []
  },
  {
   "cell_type": "code",
   "execution_count": null,
   "id": "984c765a",
   "metadata": {},
   "outputs": [],
   "source": []
  },
  {
   "cell_type": "code",
   "execution_count": null,
   "id": "673016c4",
   "metadata": {},
   "outputs": [],
   "source": []
  },
  {
   "cell_type": "code",
   "execution_count": null,
   "id": "8fe3eae4",
   "metadata": {},
   "outputs": [],
   "source": []
  }
 ],
 "metadata": {
  "kernelspec": {
   "display_name": "Python 3",
   "language": "python",
   "name": "python3"
  },
  "language_info": {
   "codemirror_mode": {
    "name": "ipython",
    "version": 3
   },
   "file_extension": ".py",
   "mimetype": "text/x-python",
   "name": "python",
   "nbconvert_exporter": "python",
   "pygments_lexer": "ipython3",
   "version": "3.8.8"
  }
 },
 "nbformat": 4,
 "nbformat_minor": 5
}
