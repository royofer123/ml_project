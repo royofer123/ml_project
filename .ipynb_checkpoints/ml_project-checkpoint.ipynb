{
 "cells": [
  {
   "cell_type": "markdown",
   "id": "294ca741",
   "metadata": {},
   "source": [
    "# Classificastion Task - predict Covid19 "
   ]
  },
  {
   "attachments": {},
   "cell_type": "markdown",
   "id": "96bec56b",
   "metadata": {},
   "source": [
    "image"
   ]
  },
  {
   "cell_type": "markdown",
   "id": "598db1f1",
   "metadata": {},
   "source": [
    "## General information about Covid19"
   ]
  },
  {
   "cell_type": "markdown",
   "id": "32c5dfe0",
   "metadata": {},
   "source": [
    "Coronavirus disease 2019 (COVID-19) is a contagious disease caused by severe acute respiratory syndrome coronavirus 2. The first known case was identified in Wuhan, China, in December 2019.The disease has since spread worldwide, leading to an ongoing pandemic.\n",
    "\n",
    "Symptoms of COVID‑19 are variable, but often include **fever, cough, headache, fatigue, breathing difficulties, loss of smell, and loss of taste**. Symptoms may begin one to fourteen days after exposure to the virus. At least a third of people who are infected do not develop noticeable symptoms. Of those people who develop symptoms noticeable enough to be classed as patients, most (81%) develop mild to moderate symptoms (up to mild pneumonia), while 14% develop severe symptoms (dyspnea, hypoxia, or more than 50% lung involvement on imaging), and 5% suffer critical symptoms (respiratory failure, shock, or multiorgan dysfunction).] Older people are at a higher risk of developing severe symptoms. Some people continue to experience a range of effects (long COVID) for months after recovery, and damage to organs has been observed. Multi-year studies are underway to further investigate the long-term effects of the disease."
   ]
  },
  {
   "cell_type": "markdown",
   "id": "47c8d5da",
   "metadata": {},
   "source": [
    "# Our classification prediction:if the person is positive with corona\n"
   ]
  },
  {
   "cell_type": "markdown",
   "id": "4d90f08b",
   "metadata": {},
   "source": [
    "# Importing necessary libraries"
   ]
  },
  {
   "cell_type": "code",
   "execution_count": 364,
   "id": "ba53483b",
   "metadata": {},
   "outputs": [],
   "source": [
    "import pandas as pd\n",
    "import numpy as np\n",
    "import matplotlib\n",
    "from sklearn.metrics import ConfusionMatrixDisplay\n",
    "from sklearn.metrics import plot_confusion_matrix\n",
    "from sklearn.ensemble import RandomForestClassifier\n",
    "from sklearn.metrics import confusion_matrix\n",
    "import matplotlib.pyplot as plt\n",
    "import seaborn as sns\n",
    "from sklearn.metrics import confusion_matrix, precision_recall_curve, roc_curve, auc, log_loss\n",
    "from sklearn.model_selection import train_test_split\n",
    "from sklearn.dummy import DummyClassifier\n",
    "from sklearn.metrics import ConfusionMatrixDisplay\n",
    "from sklearn.metrics import plot_confusion_matrix\n",
    "from sklearn.model_selection import StratifiedShuffleSplit\n",
    "from sklearn.tree import DecisionTreeClassifier\n",
    "from sklearn.model_selection import cross_val_predict\n",
    "from sklearn.metrics import precision_score, recall_score, f1_score, accuracy_score\n",
    "from sklearn.metrics import confusion_matrix\n",
    "from sklearn.neighbors import KNeighborsClassifier\n",
    "from sklearn import metrics\n",
    "from sklearn.model_selection import cross_val_predict\n",
    "import warnings\n",
    "from sklearn.linear_model import LogisticRegression\n",
    "from sklearn.metrics import confusion_matrix, ConfusionMatrixDisplay\n",
    "from sklearn.metrics import classification_report\n",
    "from sklearn.model_selection import GridSearchCV\n",
    "from sklearn.metrics import plot_confusion_matrix\n",
    "warnings.filterwarnings('ignore')"
   ]
  },
  {
   "cell_type": "markdown",
   "id": "bd7db00d",
   "metadata": {},
   "source": [
    "# Basic info on the Data"
   ]
  },
  {
   "cell_type": "code",
   "execution_count": 365,
   "id": "dc3b35e0",
   "metadata": {},
   "outputs": [],
   "source": [
    "df = pd.read_csv(\"/Users/twmrgwzln/Downloads/corona_tested_individuals_ver_00225.csv\")"
   ]
  },
  {
   "cell_type": "code",
   "execution_count": 366,
   "id": "bc7e2be5",
   "metadata": {},
   "outputs": [],
   "source": [
    "#df = pd.read_csv(\"C:\\\\Project\\\\corona_tested_individuals_ver_00225.csv\")\n"
   ]
  },
  {
   "cell_type": "markdown",
   "id": "124466cb",
   "metadata": {},
   "source": [
    "### This dataset contains information about Covid19 taken from https://data.gov.il/dataset/covid-19.\n",
    "\n",
    "The columns in the given dataset is as follows:\n",
    "\n",
    "- **test_date:** the date the test were taken\n",
    "- **cough:**if the person is coughing or not\n",
    "- **fever:**if the person is having fever or not\n",
    "- **sore_thorat:**if the person is having sore thoat or not\n",
    "- **shortness_of_breath:**if the person having shortness of breathing or not\n",
    "- **head_ache:** if the person is having head ache or not\n",
    "- **corona_result:** the result of the corona test, postive or negative\n",
    "- **age_60_and_above:** if the person is abobe 60 or not\n",
    "- **gender:** whats is the gender, male or female\n",
    "- **test_indication:** where the test had been taking"
   ]
  },
  {
   "cell_type": "code",
   "execution_count": 367,
   "id": "f8aaacc1",
   "metadata": {},
   "outputs": [
    {
     "data": {
      "text/html": [
       "<div>\n",
       "<style scoped>\n",
       "    .dataframe tbody tr th:only-of-type {\n",
       "        vertical-align: middle;\n",
       "    }\n",
       "\n",
       "    .dataframe tbody tr th {\n",
       "        vertical-align: top;\n",
       "    }\n",
       "\n",
       "    .dataframe thead th {\n",
       "        text-align: right;\n",
       "    }\n",
       "</style>\n",
       "<table border=\"1\" class=\"dataframe\">\n",
       "  <thead>\n",
       "    <tr style=\"text-align: right;\">\n",
       "      <th></th>\n",
       "      <th>test_date</th>\n",
       "      <th>cough</th>\n",
       "      <th>fever</th>\n",
       "      <th>sore_throat</th>\n",
       "      <th>shortness_of_breath</th>\n",
       "      <th>head_ache</th>\n",
       "      <th>corona_result</th>\n",
       "      <th>age_60_and_above</th>\n",
       "      <th>gender</th>\n",
       "      <th>test_indication</th>\n",
       "    </tr>\n",
       "  </thead>\n",
       "  <tbody>\n",
       "    <tr>\n",
       "      <th>0</th>\n",
       "      <td>2022-02-17</td>\n",
       "      <td>0</td>\n",
       "      <td>0</td>\n",
       "      <td>0</td>\n",
       "      <td>0</td>\n",
       "      <td>0</td>\n",
       "      <td>חיובי</td>\n",
       "      <td>No</td>\n",
       "      <td>נקבה</td>\n",
       "      <td>Other</td>\n",
       "    </tr>\n",
       "    <tr>\n",
       "      <th>1</th>\n",
       "      <td>2022-02-17</td>\n",
       "      <td>0</td>\n",
       "      <td>0</td>\n",
       "      <td>0</td>\n",
       "      <td>0</td>\n",
       "      <td>0</td>\n",
       "      <td>שלילי</td>\n",
       "      <td>No</td>\n",
       "      <td>נקבה</td>\n",
       "      <td>Other</td>\n",
       "    </tr>\n",
       "    <tr>\n",
       "      <th>2</th>\n",
       "      <td>2022-02-17</td>\n",
       "      <td>0</td>\n",
       "      <td>0</td>\n",
       "      <td>0</td>\n",
       "      <td>0</td>\n",
       "      <td>0</td>\n",
       "      <td>שלילי</td>\n",
       "      <td>No</td>\n",
       "      <td>נקבה</td>\n",
       "      <td>Other</td>\n",
       "    </tr>\n",
       "    <tr>\n",
       "      <th>3</th>\n",
       "      <td>2022-02-17</td>\n",
       "      <td>0</td>\n",
       "      <td>0</td>\n",
       "      <td>0</td>\n",
       "      <td>0</td>\n",
       "      <td>0</td>\n",
       "      <td>שלילי</td>\n",
       "      <td>No</td>\n",
       "      <td>NaN</td>\n",
       "      <td>Other</td>\n",
       "    </tr>\n",
       "    <tr>\n",
       "      <th>4</th>\n",
       "      <td>2022-02-17</td>\n",
       "      <td>0</td>\n",
       "      <td>0</td>\n",
       "      <td>0</td>\n",
       "      <td>0</td>\n",
       "      <td>0</td>\n",
       "      <td>שלילי</td>\n",
       "      <td>No</td>\n",
       "      <td>NaN</td>\n",
       "      <td>Other</td>\n",
       "    </tr>\n",
       "    <tr>\n",
       "      <th>...</th>\n",
       "      <td>...</td>\n",
       "      <td>...</td>\n",
       "      <td>...</td>\n",
       "      <td>...</td>\n",
       "      <td>...</td>\n",
       "      <td>...</td>\n",
       "      <td>...</td>\n",
       "      <td>...</td>\n",
       "      <td>...</td>\n",
       "      <td>...</td>\n",
       "    </tr>\n",
       "    <tr>\n",
       "      <th>9053443</th>\n",
       "      <td>2020-03-11</td>\n",
       "      <td>0</td>\n",
       "      <td>1</td>\n",
       "      <td>0</td>\n",
       "      <td>1</td>\n",
       "      <td>0</td>\n",
       "      <td>שלילי</td>\n",
       "      <td>NaN</td>\n",
       "      <td>NaN</td>\n",
       "      <td>Abroad</td>\n",
       "    </tr>\n",
       "    <tr>\n",
       "      <th>9053444</th>\n",
       "      <td>2020-03-11</td>\n",
       "      <td>0</td>\n",
       "      <td>0</td>\n",
       "      <td>0</td>\n",
       "      <td>0</td>\n",
       "      <td>0</td>\n",
       "      <td>שלילי</td>\n",
       "      <td>NaN</td>\n",
       "      <td>NaN</td>\n",
       "      <td>Other</td>\n",
       "    </tr>\n",
       "    <tr>\n",
       "      <th>9053445</th>\n",
       "      <td>2020-03-11</td>\n",
       "      <td>0</td>\n",
       "      <td>0</td>\n",
       "      <td>0</td>\n",
       "      <td>0</td>\n",
       "      <td>0</td>\n",
       "      <td>שלילי</td>\n",
       "      <td>NaN</td>\n",
       "      <td>NaN</td>\n",
       "      <td>Other</td>\n",
       "    </tr>\n",
       "    <tr>\n",
       "      <th>9053446</th>\n",
       "      <td>2020-03-11</td>\n",
       "      <td>0</td>\n",
       "      <td>0</td>\n",
       "      <td>0</td>\n",
       "      <td>0</td>\n",
       "      <td>0</td>\n",
       "      <td>שלילי</td>\n",
       "      <td>NaN</td>\n",
       "      <td>NaN</td>\n",
       "      <td>Other</td>\n",
       "    </tr>\n",
       "    <tr>\n",
       "      <th>9053447</th>\n",
       "      <td>2020-03-11</td>\n",
       "      <td>1</td>\n",
       "      <td>0</td>\n",
       "      <td>0</td>\n",
       "      <td>1</td>\n",
       "      <td>0</td>\n",
       "      <td>שלילי</td>\n",
       "      <td>NaN</td>\n",
       "      <td>NaN</td>\n",
       "      <td>Abroad</td>\n",
       "    </tr>\n",
       "  </tbody>\n",
       "</table>\n",
       "<p>9053448 rows × 10 columns</p>\n",
       "</div>"
      ],
      "text/plain": [
       "          test_date  cough  fever  sore_throat  shortness_of_breath  \\\n",
       "0        2022-02-17      0      0            0                    0   \n",
       "1        2022-02-17      0      0            0                    0   \n",
       "2        2022-02-17      0      0            0                    0   \n",
       "3        2022-02-17      0      0            0                    0   \n",
       "4        2022-02-17      0      0            0                    0   \n",
       "...             ...    ...    ...          ...                  ...   \n",
       "9053443  2020-03-11      0      1            0                    1   \n",
       "9053444  2020-03-11      0      0            0                    0   \n",
       "9053445  2020-03-11      0      0            0                    0   \n",
       "9053446  2020-03-11      0      0            0                    0   \n",
       "9053447  2020-03-11      1      0            0                    1   \n",
       "\n",
       "         head_ache corona_result age_60_and_above gender test_indication  \n",
       "0                0         חיובי               No   נקבה           Other  \n",
       "1                0         שלילי               No   נקבה           Other  \n",
       "2                0         שלילי               No   נקבה           Other  \n",
       "3                0         שלילי               No    NaN           Other  \n",
       "4                0         שלילי               No    NaN           Other  \n",
       "...            ...           ...              ...    ...             ...  \n",
       "9053443          0         שלילי              NaN    NaN          Abroad  \n",
       "9053444          0         שלילי              NaN    NaN           Other  \n",
       "9053445          0         שלילי              NaN    NaN           Other  \n",
       "9053446          0         שלילי              NaN    NaN           Other  \n",
       "9053447          0         שלילי              NaN    NaN          Abroad  \n",
       "\n",
       "[9053448 rows x 10 columns]"
      ]
     },
     "execution_count": 367,
     "metadata": {},
     "output_type": "execute_result"
    }
   ],
   "source": [
    "df"
   ]
  },
  {
   "cell_type": "markdown",
   "id": "0f03c5d8",
   "metadata": {},
   "source": [
    "### Just by looking at the data, we can see with have too much. <br>We will need to get rid of some of the data, we will do it later."
   ]
  },
  {
   "cell_type": "code",
   "execution_count": 368,
   "id": "5e0ea28a",
   "metadata": {},
   "outputs": [
    {
     "name": "stdout",
     "output_type": "stream",
     "text": [
      "<class 'pandas.core.frame.DataFrame'>\n",
      "RangeIndex: 9053448 entries, 0 to 9053447\n",
      "Data columns (total 10 columns):\n",
      " #   Column               Dtype \n",
      "---  ------               ----- \n",
      " 0   test_date            object\n",
      " 1   cough                int64 \n",
      " 2   fever                int64 \n",
      " 3   sore_throat          int64 \n",
      " 4   shortness_of_breath  int64 \n",
      " 5   head_ache            int64 \n",
      " 6   corona_result        object\n",
      " 7   age_60_and_above     object\n",
      " 8   gender               object\n",
      " 9   test_indication      object\n",
      "dtypes: int64(5), object(5)\n",
      "memory usage: 690.7+ MB\n"
     ]
    }
   ],
   "source": [
    "df.info()"
   ]
  },
  {
   "cell_type": "code",
   "execution_count": 369,
   "id": "f5ba7720",
   "metadata": {},
   "outputs": [
    {
     "data": {
      "text/html": [
       "<div>\n",
       "<style scoped>\n",
       "    .dataframe tbody tr th:only-of-type {\n",
       "        vertical-align: middle;\n",
       "    }\n",
       "\n",
       "    .dataframe tbody tr th {\n",
       "        vertical-align: top;\n",
       "    }\n",
       "\n",
       "    .dataframe thead th {\n",
       "        text-align: right;\n",
       "    }\n",
       "</style>\n",
       "<table border=\"1\" class=\"dataframe\">\n",
       "  <thead>\n",
       "    <tr style=\"text-align: right;\">\n",
       "      <th></th>\n",
       "      <th>test_date</th>\n",
       "      <th>cough</th>\n",
       "      <th>fever</th>\n",
       "      <th>sore_throat</th>\n",
       "      <th>shortness_of_breath</th>\n",
       "      <th>head_ache</th>\n",
       "      <th>corona_result</th>\n",
       "      <th>age_60_and_above</th>\n",
       "      <th>gender</th>\n",
       "      <th>test_indication</th>\n",
       "    </tr>\n",
       "  </thead>\n",
       "  <tbody>\n",
       "    <tr>\n",
       "      <th>0</th>\n",
       "      <td>2022-02-17</td>\n",
       "      <td>0</td>\n",
       "      <td>0</td>\n",
       "      <td>0</td>\n",
       "      <td>0</td>\n",
       "      <td>0</td>\n",
       "      <td>חיובי</td>\n",
       "      <td>No</td>\n",
       "      <td>נקבה</td>\n",
       "      <td>Other</td>\n",
       "    </tr>\n",
       "    <tr>\n",
       "      <th>1</th>\n",
       "      <td>2022-02-17</td>\n",
       "      <td>0</td>\n",
       "      <td>0</td>\n",
       "      <td>0</td>\n",
       "      <td>0</td>\n",
       "      <td>0</td>\n",
       "      <td>שלילי</td>\n",
       "      <td>No</td>\n",
       "      <td>נקבה</td>\n",
       "      <td>Other</td>\n",
       "    </tr>\n",
       "    <tr>\n",
       "      <th>2</th>\n",
       "      <td>2022-02-17</td>\n",
       "      <td>0</td>\n",
       "      <td>0</td>\n",
       "      <td>0</td>\n",
       "      <td>0</td>\n",
       "      <td>0</td>\n",
       "      <td>שלילי</td>\n",
       "      <td>No</td>\n",
       "      <td>נקבה</td>\n",
       "      <td>Other</td>\n",
       "    </tr>\n",
       "    <tr>\n",
       "      <th>3</th>\n",
       "      <td>2022-02-17</td>\n",
       "      <td>0</td>\n",
       "      <td>0</td>\n",
       "      <td>0</td>\n",
       "      <td>0</td>\n",
       "      <td>0</td>\n",
       "      <td>שלילי</td>\n",
       "      <td>No</td>\n",
       "      <td>NaN</td>\n",
       "      <td>Other</td>\n",
       "    </tr>\n",
       "    <tr>\n",
       "      <th>4</th>\n",
       "      <td>2022-02-17</td>\n",
       "      <td>0</td>\n",
       "      <td>0</td>\n",
       "      <td>0</td>\n",
       "      <td>0</td>\n",
       "      <td>0</td>\n",
       "      <td>שלילי</td>\n",
       "      <td>No</td>\n",
       "      <td>NaN</td>\n",
       "      <td>Other</td>\n",
       "    </tr>\n",
       "  </tbody>\n",
       "</table>\n",
       "</div>"
      ],
      "text/plain": [
       "    test_date  cough  fever  sore_throat  shortness_of_breath  head_ache  \\\n",
       "0  2022-02-17      0      0            0                    0          0   \n",
       "1  2022-02-17      0      0            0                    0          0   \n",
       "2  2022-02-17      0      0            0                    0          0   \n",
       "3  2022-02-17      0      0            0                    0          0   \n",
       "4  2022-02-17      0      0            0                    0          0   \n",
       "\n",
       "  corona_result age_60_and_above gender test_indication  \n",
       "0         חיובי               No   נקבה           Other  \n",
       "1         שלילי               No   נקבה           Other  \n",
       "2         שלילי               No   נקבה           Other  \n",
       "3         שלילי               No    NaN           Other  \n",
       "4         שלילי               No    NaN           Other  "
      ]
     },
     "execution_count": 369,
     "metadata": {},
     "output_type": "execute_result"
    }
   ],
   "source": [
    "df.head()"
   ]
  },
  {
   "cell_type": "markdown",
   "id": "e82b719a",
   "metadata": {},
   "source": [
    "### We will now change all the string data to int data in order to have the same type:\n",
    "Female will be 0, male will be 1.\n",
    "<br> Negative will be 0, positive will be 1.\n",
    "<br> Under age 60 will be 0, Above will be 1\n",
    "<br> And we will get rid of the \"other\" in corona result so it won't affect the data."
   ]
  },
  {
   "cell_type": "code",
   "execution_count": 370,
   "id": "560ed8d4",
   "metadata": {},
   "outputs": [],
   "source": [
    "df.drop(df[df['corona_result'] == \"אחר\"].index, inplace = True)"
   ]
  },
  {
   "cell_type": "code",
   "execution_count": 371,
   "id": "46d90b56",
   "metadata": {},
   "outputs": [],
   "source": [
    "df['gender'] = df['gender'].replace({\"זכר\": 1, \"נקבה\": 0})\n",
    "df['corona_result'] = df['corona_result'].replace({\"חיובי\": 1, \"שלילי\": 0})\n",
    "df['age_60_and_above'] = df['age_60_and_above'].replace({\"Yes\": 1, \"No\": 0})\n"
   ]
  },
  {
   "cell_type": "markdown",
   "id": "e42a59f3",
   "metadata": {},
   "source": [
    "### checking all the data share the same type:"
   ]
  },
  {
   "cell_type": "code",
   "execution_count": 372,
   "id": "4146af51",
   "metadata": {},
   "outputs": [
    {
     "name": "stdout",
     "output_type": "stream",
     "text": [
      "<class 'pandas.core.frame.DataFrame'>\n",
      "Int64Index: 8858382 entries, 0 to 9053447\n",
      "Data columns (total 10 columns):\n",
      " #   Column               Dtype  \n",
      "---  ------               -----  \n",
      " 0   test_date            object \n",
      " 1   cough                int64  \n",
      " 2   fever                int64  \n",
      " 3   sore_throat          int64  \n",
      " 4   shortness_of_breath  int64  \n",
      " 5   head_ache            int64  \n",
      " 6   corona_result        int64  \n",
      " 7   age_60_and_above     float64\n",
      " 8   gender               float64\n",
      " 9   test_indication      object \n",
      "dtypes: float64(2), int64(6), object(2)\n",
      "memory usage: 743.4+ MB\n"
     ]
    }
   ],
   "source": [
    "df.info()"
   ]
  },
  {
   "cell_type": "markdown",
   "id": "fc8cdd99",
   "metadata": {},
   "source": [
    "### We want want to predict the corona result column, so we first take a look at all the data about it"
   ]
  },
  {
   "cell_type": "markdown",
   "id": "bbd2e0ad",
   "metadata": {},
   "source": [
    "Postive with corona:"
   ]
  },
  {
   "cell_type": "code",
   "execution_count": 373,
   "id": "83d745b2",
   "metadata": {},
   "outputs": [
    {
     "data": {
      "text/html": [
       "<div>\n",
       "<style scoped>\n",
       "    .dataframe tbody tr th:only-of-type {\n",
       "        vertical-align: middle;\n",
       "    }\n",
       "\n",
       "    .dataframe tbody tr th {\n",
       "        vertical-align: top;\n",
       "    }\n",
       "\n",
       "    .dataframe thead th {\n",
       "        text-align: right;\n",
       "    }\n",
       "</style>\n",
       "<table border=\"1\" class=\"dataframe\">\n",
       "  <thead>\n",
       "    <tr style=\"text-align: right;\">\n",
       "      <th></th>\n",
       "      <th>cough</th>\n",
       "      <th>fever</th>\n",
       "      <th>sore_throat</th>\n",
       "      <th>shortness_of_breath</th>\n",
       "      <th>head_ache</th>\n",
       "      <th>corona_result</th>\n",
       "      <th>age_60_and_above</th>\n",
       "      <th>gender</th>\n",
       "    </tr>\n",
       "  </thead>\n",
       "  <tbody>\n",
       "    <tr>\n",
       "      <th>count</th>\n",
       "      <td>908643.000000</td>\n",
       "      <td>908643.000000</td>\n",
       "      <td>908643.000000</td>\n",
       "      <td>908643.000000</td>\n",
       "      <td>908643.000000</td>\n",
       "      <td>908643.0</td>\n",
       "      <td>873113.000000</td>\n",
       "      <td>854545.000000</td>\n",
       "    </tr>\n",
       "    <tr>\n",
       "      <th>mean</th>\n",
       "      <td>0.142531</td>\n",
       "      <td>0.121596</td>\n",
       "      <td>0.065954</td>\n",
       "      <td>0.017223</td>\n",
       "      <td>0.127806</td>\n",
       "      <td>1.0</td>\n",
       "      <td>0.127039</td>\n",
       "      <td>0.483181</td>\n",
       "    </tr>\n",
       "    <tr>\n",
       "      <th>std</th>\n",
       "      <td>0.349594</td>\n",
       "      <td>0.326818</td>\n",
       "      <td>0.248203</td>\n",
       "      <td>0.130103</td>\n",
       "      <td>0.333874</td>\n",
       "      <td>0.0</td>\n",
       "      <td>0.333016</td>\n",
       "      <td>0.499717</td>\n",
       "    </tr>\n",
       "    <tr>\n",
       "      <th>min</th>\n",
       "      <td>0.000000</td>\n",
       "      <td>0.000000</td>\n",
       "      <td>0.000000</td>\n",
       "      <td>0.000000</td>\n",
       "      <td>0.000000</td>\n",
       "      <td>1.0</td>\n",
       "      <td>0.000000</td>\n",
       "      <td>0.000000</td>\n",
       "    </tr>\n",
       "    <tr>\n",
       "      <th>25%</th>\n",
       "      <td>0.000000</td>\n",
       "      <td>0.000000</td>\n",
       "      <td>0.000000</td>\n",
       "      <td>0.000000</td>\n",
       "      <td>0.000000</td>\n",
       "      <td>1.0</td>\n",
       "      <td>0.000000</td>\n",
       "      <td>0.000000</td>\n",
       "    </tr>\n",
       "    <tr>\n",
       "      <th>50%</th>\n",
       "      <td>0.000000</td>\n",
       "      <td>0.000000</td>\n",
       "      <td>0.000000</td>\n",
       "      <td>0.000000</td>\n",
       "      <td>0.000000</td>\n",
       "      <td>1.0</td>\n",
       "      <td>0.000000</td>\n",
       "      <td>0.000000</td>\n",
       "    </tr>\n",
       "    <tr>\n",
       "      <th>75%</th>\n",
       "      <td>0.000000</td>\n",
       "      <td>0.000000</td>\n",
       "      <td>0.000000</td>\n",
       "      <td>0.000000</td>\n",
       "      <td>0.000000</td>\n",
       "      <td>1.0</td>\n",
       "      <td>0.000000</td>\n",
       "      <td>1.000000</td>\n",
       "    </tr>\n",
       "    <tr>\n",
       "      <th>max</th>\n",
       "      <td>1.000000</td>\n",
       "      <td>1.000000</td>\n",
       "      <td>1.000000</td>\n",
       "      <td>1.000000</td>\n",
       "      <td>1.000000</td>\n",
       "      <td>1.0</td>\n",
       "      <td>1.000000</td>\n",
       "      <td>1.000000</td>\n",
       "    </tr>\n",
       "  </tbody>\n",
       "</table>\n",
       "</div>"
      ],
      "text/plain": [
       "               cough          fever    sore_throat  shortness_of_breath  \\\n",
       "count  908643.000000  908643.000000  908643.000000        908643.000000   \n",
       "mean        0.142531       0.121596       0.065954             0.017223   \n",
       "std         0.349594       0.326818       0.248203             0.130103   \n",
       "min         0.000000       0.000000       0.000000             0.000000   \n",
       "25%         0.000000       0.000000       0.000000             0.000000   \n",
       "50%         0.000000       0.000000       0.000000             0.000000   \n",
       "75%         0.000000       0.000000       0.000000             0.000000   \n",
       "max         1.000000       1.000000       1.000000             1.000000   \n",
       "\n",
       "           head_ache  corona_result  age_60_and_above         gender  \n",
       "count  908643.000000       908643.0     873113.000000  854545.000000  \n",
       "mean        0.127806            1.0          0.127039       0.483181  \n",
       "std         0.333874            0.0          0.333016       0.499717  \n",
       "min         0.000000            1.0          0.000000       0.000000  \n",
       "25%         0.000000            1.0          0.000000       0.000000  \n",
       "50%         0.000000            1.0          0.000000       0.000000  \n",
       "75%         0.000000            1.0          0.000000       1.000000  \n",
       "max         1.000000            1.0          1.000000       1.000000  "
      ]
     },
     "execution_count": 373,
     "metadata": {},
     "output_type": "execute_result"
    }
   ],
   "source": [
    "df[df['corona_result']==1].describe()\n"
   ]
  },
  {
   "cell_type": "markdown",
   "id": "4352789a",
   "metadata": {},
   "source": [
    "negative with corona:"
   ]
  },
  {
   "cell_type": "code",
   "execution_count": 374,
   "id": "a706abaf",
   "metadata": {},
   "outputs": [
    {
     "data": {
      "text/html": [
       "<div>\n",
       "<style scoped>\n",
       "    .dataframe tbody tr th:only-of-type {\n",
       "        vertical-align: middle;\n",
       "    }\n",
       "\n",
       "    .dataframe tbody tr th {\n",
       "        vertical-align: top;\n",
       "    }\n",
       "\n",
       "    .dataframe thead th {\n",
       "        text-align: right;\n",
       "    }\n",
       "</style>\n",
       "<table border=\"1\" class=\"dataframe\">\n",
       "  <thead>\n",
       "    <tr style=\"text-align: right;\">\n",
       "      <th></th>\n",
       "      <th>cough</th>\n",
       "      <th>fever</th>\n",
       "      <th>sore_throat</th>\n",
       "      <th>shortness_of_breath</th>\n",
       "      <th>head_ache</th>\n",
       "      <th>corona_result</th>\n",
       "      <th>age_60_and_above</th>\n",
       "      <th>gender</th>\n",
       "    </tr>\n",
       "  </thead>\n",
       "  <tbody>\n",
       "    <tr>\n",
       "      <th>count</th>\n",
       "      <td>7.949739e+06</td>\n",
       "      <td>7.949739e+06</td>\n",
       "      <td>7.949739e+06</td>\n",
       "      <td>7.949739e+06</td>\n",
       "      <td>7.949739e+06</td>\n",
       "      <td>7949739.0</td>\n",
       "      <td>6.109333e+06</td>\n",
       "      <td>6.485047e+06</td>\n",
       "    </tr>\n",
       "    <tr>\n",
       "      <th>mean</th>\n",
       "      <td>3.526871e-02</td>\n",
       "      <td>2.565342e-02</td>\n",
       "      <td>1.340597e-02</td>\n",
       "      <td>2.387500e-03</td>\n",
       "      <td>2.584274e-02</td>\n",
       "      <td>0.0</td>\n",
       "      <td>1.333741e-01</td>\n",
       "      <td>4.829492e-01</td>\n",
       "    </tr>\n",
       "    <tr>\n",
       "      <th>std</th>\n",
       "      <td>1.844582e-01</td>\n",
       "      <td>1.580991e-01</td>\n",
       "      <td>1.150055e-01</td>\n",
       "      <td>4.880369e-02</td>\n",
       "      <td>1.586660e-01</td>\n",
       "      <td>0.0</td>\n",
       "      <td>3.399787e-01</td>\n",
       "      <td>4.997092e-01</td>\n",
       "    </tr>\n",
       "    <tr>\n",
       "      <th>min</th>\n",
       "      <td>0.000000e+00</td>\n",
       "      <td>0.000000e+00</td>\n",
       "      <td>0.000000e+00</td>\n",
       "      <td>0.000000e+00</td>\n",
       "      <td>0.000000e+00</td>\n",
       "      <td>0.0</td>\n",
       "      <td>0.000000e+00</td>\n",
       "      <td>0.000000e+00</td>\n",
       "    </tr>\n",
       "    <tr>\n",
       "      <th>25%</th>\n",
       "      <td>0.000000e+00</td>\n",
       "      <td>0.000000e+00</td>\n",
       "      <td>0.000000e+00</td>\n",
       "      <td>0.000000e+00</td>\n",
       "      <td>0.000000e+00</td>\n",
       "      <td>0.0</td>\n",
       "      <td>0.000000e+00</td>\n",
       "      <td>0.000000e+00</td>\n",
       "    </tr>\n",
       "    <tr>\n",
       "      <th>50%</th>\n",
       "      <td>0.000000e+00</td>\n",
       "      <td>0.000000e+00</td>\n",
       "      <td>0.000000e+00</td>\n",
       "      <td>0.000000e+00</td>\n",
       "      <td>0.000000e+00</td>\n",
       "      <td>0.0</td>\n",
       "      <td>0.000000e+00</td>\n",
       "      <td>0.000000e+00</td>\n",
       "    </tr>\n",
       "    <tr>\n",
       "      <th>75%</th>\n",
       "      <td>0.000000e+00</td>\n",
       "      <td>0.000000e+00</td>\n",
       "      <td>0.000000e+00</td>\n",
       "      <td>0.000000e+00</td>\n",
       "      <td>0.000000e+00</td>\n",
       "      <td>0.0</td>\n",
       "      <td>0.000000e+00</td>\n",
       "      <td>1.000000e+00</td>\n",
       "    </tr>\n",
       "    <tr>\n",
       "      <th>max</th>\n",
       "      <td>1.000000e+00</td>\n",
       "      <td>1.000000e+00</td>\n",
       "      <td>1.000000e+00</td>\n",
       "      <td>1.000000e+00</td>\n",
       "      <td>1.000000e+00</td>\n",
       "      <td>0.0</td>\n",
       "      <td>1.000000e+00</td>\n",
       "      <td>1.000000e+00</td>\n",
       "    </tr>\n",
       "  </tbody>\n",
       "</table>\n",
       "</div>"
      ],
      "text/plain": [
       "              cough         fever   sore_throat  shortness_of_breath  \\\n",
       "count  7.949739e+06  7.949739e+06  7.949739e+06         7.949739e+06   \n",
       "mean   3.526871e-02  2.565342e-02  1.340597e-02         2.387500e-03   \n",
       "std    1.844582e-01  1.580991e-01  1.150055e-01         4.880369e-02   \n",
       "min    0.000000e+00  0.000000e+00  0.000000e+00         0.000000e+00   \n",
       "25%    0.000000e+00  0.000000e+00  0.000000e+00         0.000000e+00   \n",
       "50%    0.000000e+00  0.000000e+00  0.000000e+00         0.000000e+00   \n",
       "75%    0.000000e+00  0.000000e+00  0.000000e+00         0.000000e+00   \n",
       "max    1.000000e+00  1.000000e+00  1.000000e+00         1.000000e+00   \n",
       "\n",
       "          head_ache  corona_result  age_60_and_above        gender  \n",
       "count  7.949739e+06      7949739.0      6.109333e+06  6.485047e+06  \n",
       "mean   2.584274e-02            0.0      1.333741e-01  4.829492e-01  \n",
       "std    1.586660e-01            0.0      3.399787e-01  4.997092e-01  \n",
       "min    0.000000e+00            0.0      0.000000e+00  0.000000e+00  \n",
       "25%    0.000000e+00            0.0      0.000000e+00  0.000000e+00  \n",
       "50%    0.000000e+00            0.0      0.000000e+00  0.000000e+00  \n",
       "75%    0.000000e+00            0.0      0.000000e+00  1.000000e+00  \n",
       "max    1.000000e+00            0.0      1.000000e+00  1.000000e+00  "
      ]
     },
     "execution_count": 374,
     "metadata": {},
     "output_type": "execute_result"
    }
   ],
   "source": [
    "df[df['corona_result']==0].describe()"
   ]
  },
  {
   "cell_type": "code",
   "execution_count": 375,
   "id": "67b65be3",
   "metadata": {},
   "outputs": [
    {
     "data": {
      "image/png": "[encoded data removed]",
      "text/plain": [
       "<Figure size 504x504 with 1 Axes>"
      ]
     },
     "metadata": {},
     "output_type": "display_data"
    }
   ],
   "source": [
    "df_negative = df['corona_result'] == 0\n",
    "df_positive = df['corona_result'] == 1\n",
    "\n",
    "labels = 'Positive Cases', 'Negative Cases'\n",
    "sizes = [df_positive.sum(), df_negative.sum()]\n",
    "colors = ['lightblue', 'coral']\n",
    "explode = (0.5, 0) \n",
    "\n",
    "fig, axs = plt.subplots(figsize=(7, 7))\n",
    "plt.pie(sizes, explode=explode, labels=labels, colors=colors,\n",
    "autopct='%1.2f%%', shadow=True, startangle=0)\n",
    "\n",
    "\n",
    "plt.show()"
   ]
  },
  {
   "cell_type": "markdown",
   "id": "e0255bf0",
   "metadata": {},
   "source": [
    "### important information from the tables above:\n",
    "- The majority of the cases are the negative results."
   ]
  },
  {
   "cell_type": "markdown",
   "id": "9c44dfcc",
   "metadata": {},
   "source": [
    "### Now we will clean all the NaN Data"
   ]
  },
  {
   "cell_type": "code",
   "execution_count": 376,
   "id": "ce8ede15",
   "metadata": {},
   "outputs": [],
   "source": [
    "df.isnull().sum()\n",
    "df = df.dropna()"
   ]
  },
  {
   "cell_type": "markdown",
   "id": "9c4fb091",
   "metadata": {},
   "source": [
    "### Checking the size after cleaning all the NaN data"
   ]
  },
  {
   "cell_type": "code",
   "execution_count": 377,
   "id": "bd9989f2",
   "metadata": {},
   "outputs": [
    {
     "data": {
      "text/plain": [
       "(6207383, 10)"
      ]
     },
     "execution_count": 377,
     "metadata": {},
     "output_type": "execute_result"
    }
   ],
   "source": [
    "df.shape"
   ]
  },
  {
   "cell_type": "markdown",
   "id": "673a044b",
   "metadata": {},
   "source": [
    "### After we cleaned around 3 milions rows of the data, we can still see we have alot of data. we will take a sample from the data that feature distributions are preserved."
   ]
  },
  {
   "cell_type": "code",
   "execution_count": 378,
   "id": "fb2d6826",
   "metadata": {
    "scrolled": false
   },
   "outputs": [],
   "source": [
    "\n",
    "sample_df = df.sample(int(len(df) * 0.002))"
   ]
  },
  {
   "cell_type": "markdown",
   "id": "e2a6c084",
   "metadata": {},
   "source": [
    "## info about the sample data"
   ]
  },
  {
   "cell_type": "markdown",
   "id": "f26738b0",
   "metadata": {},
   "source": [
    "### size of the sample data"
   ]
  },
  {
   "cell_type": "code",
   "execution_count": 379,
   "id": "88197a75",
   "metadata": {},
   "outputs": [
    {
     "data": {
      "text/plain": [
       "(12414, 10)"
      ]
     },
     "execution_count": 379,
     "metadata": {},
     "output_type": "execute_result"
    }
   ],
   "source": [
    "sample_df.shape"
   ]
  },
  {
   "cell_type": "code",
   "execution_count": 380,
   "id": "ec66ce32",
   "metadata": {},
   "outputs": [
    {
     "data": {
      "text/html": [
       "<div>\n",
       "<style scoped>\n",
       "    .dataframe tbody tr th:only-of-type {\n",
       "        vertical-align: middle;\n",
       "    }\n",
       "\n",
       "    .dataframe tbody tr th {\n",
       "        vertical-align: top;\n",
       "    }\n",
       "\n",
       "    .dataframe thead th {\n",
       "        text-align: right;\n",
       "    }\n",
       "</style>\n",
       "<table border=\"1\" class=\"dataframe\">\n",
       "  <thead>\n",
       "    <tr style=\"text-align: right;\">\n",
       "      <th></th>\n",
       "      <th>test_date</th>\n",
       "      <th>cough</th>\n",
       "      <th>fever</th>\n",
       "      <th>sore_throat</th>\n",
       "      <th>shortness_of_breath</th>\n",
       "      <th>head_ache</th>\n",
       "      <th>corona_result</th>\n",
       "      <th>age_60_and_above</th>\n",
       "      <th>gender</th>\n",
       "      <th>test_indication</th>\n",
       "    </tr>\n",
       "  </thead>\n",
       "  <tbody>\n",
       "    <tr>\n",
       "      <th>8162188</th>\n",
       "      <td>2020-07-09</td>\n",
       "      <td>1</td>\n",
       "      <td>1</td>\n",
       "      <td>0</td>\n",
       "      <td>0</td>\n",
       "      <td>0</td>\n",
       "      <td>1</td>\n",
       "      <td>0.0</td>\n",
       "      <td>0.0</td>\n",
       "      <td>Other</td>\n",
       "    </tr>\n",
       "    <tr>\n",
       "      <th>4489260</th>\n",
       "      <td>2021-01-29</td>\n",
       "      <td>0</td>\n",
       "      <td>0</td>\n",
       "      <td>0</td>\n",
       "      <td>0</td>\n",
       "      <td>0</td>\n",
       "      <td>0</td>\n",
       "      <td>0.0</td>\n",
       "      <td>1.0</td>\n",
       "      <td>Other</td>\n",
       "    </tr>\n",
       "    <tr>\n",
       "      <th>7552128</th>\n",
       "      <td>2020-08-31</td>\n",
       "      <td>0</td>\n",
       "      <td>0</td>\n",
       "      <td>0</td>\n",
       "      <td>0</td>\n",
       "      <td>0</td>\n",
       "      <td>0</td>\n",
       "      <td>0.0</td>\n",
       "      <td>1.0</td>\n",
       "      <td>Other</td>\n",
       "    </tr>\n",
       "    <tr>\n",
       "      <th>2077919</th>\n",
       "      <td>2021-09-03</td>\n",
       "      <td>0</td>\n",
       "      <td>0</td>\n",
       "      <td>0</td>\n",
       "      <td>0</td>\n",
       "      <td>0</td>\n",
       "      <td>0</td>\n",
       "      <td>0.0</td>\n",
       "      <td>0.0</td>\n",
       "      <td>Other</td>\n",
       "    </tr>\n",
       "    <tr>\n",
       "      <th>4247991</th>\n",
       "      <td>2021-02-14</td>\n",
       "      <td>0</td>\n",
       "      <td>0</td>\n",
       "      <td>0</td>\n",
       "      <td>0</td>\n",
       "      <td>0</td>\n",
       "      <td>0</td>\n",
       "      <td>0.0</td>\n",
       "      <td>0.0</td>\n",
       "      <td>Other</td>\n",
       "    </tr>\n",
       "  </tbody>\n",
       "</table>\n",
       "</div>"
      ],
      "text/plain": [
       "          test_date  cough  fever  sore_throat  shortness_of_breath  \\\n",
       "8162188  2020-07-09      1      1            0                    0   \n",
       "4489260  2021-01-29      0      0            0                    0   \n",
       "7552128  2020-08-31      0      0            0                    0   \n",
       "2077919  2021-09-03      0      0            0                    0   \n",
       "4247991  2021-02-14      0      0            0                    0   \n",
       "\n",
       "         head_ache  corona_result  age_60_and_above  gender test_indication  \n",
       "8162188          0              1               0.0     0.0           Other  \n",
       "4489260          0              0               0.0     1.0           Other  \n",
       "7552128          0              0               0.0     1.0           Other  \n",
       "2077919          0              0               0.0     0.0           Other  \n",
       "4247991          0              0               0.0     0.0           Other  "
      ]
     },
     "execution_count": 380,
     "metadata": {},
     "output_type": "execute_result"
    }
   ],
   "source": [
    "sample_df.head()"
   ]
  },
  {
   "cell_type": "markdown",
   "id": "da91e9e6",
   "metadata": {},
   "source": [
    "Corona result that equals to \"other\" is still irrelevant so we will drop it"
   ]
  },
  {
   "cell_type": "code",
   "execution_count": 381,
   "id": "ec093b4b",
   "metadata": {},
   "outputs": [],
   "source": [
    "sample_df.drop(sample_df[sample_df['corona_result'] == \"אחר\"].index, inplace = True)"
   ]
  },
  {
   "cell_type": "markdown",
   "id": "aff169e3",
   "metadata": {},
   "source": [
    "### Changing all the types to int"
   ]
  },
  {
   "cell_type": "code",
   "execution_count": 382,
   "id": "66bee087",
   "metadata": {},
   "outputs": [],
   "source": [
    "sample_df['gender'] = sample_df['gender'].replace({\"זכר\": 1, \"נקבה\": 0})\n",
    "sample_df['corona_result'] = sample_df['corona_result'].replace({\"חיובי\": 1, \"שלילי\": 0})\n",
    "sample_df['age_60_and_above'] = sample_df['age_60_and_above'].replace({\"Yes\": 1, \"No\": 0})"
   ]
  },
  {
   "cell_type": "code",
   "execution_count": 383,
   "id": "ccd4d2ce",
   "metadata": {},
   "outputs": [
    {
     "name": "stdout",
     "output_type": "stream",
     "text": [
      "<class 'pandas.core.frame.DataFrame'>\n",
      "Int64Index: 12414 entries, 8162188 to 7698987\n",
      "Data columns (total 10 columns):\n",
      " #   Column               Non-Null Count  Dtype  \n",
      "---  ------               --------------  -----  \n",
      " 0   test_date            12414 non-null  object \n",
      " 1   cough                12414 non-null  int64  \n",
      " 2   fever                12414 non-null  int64  \n",
      " 3   sore_throat          12414 non-null  int64  \n",
      " 4   shortness_of_breath  12414 non-null  int64  \n",
      " 5   head_ache            12414 non-null  int64  \n",
      " 6   corona_result        12414 non-null  int64  \n",
      " 7   age_60_and_above     12414 non-null  float64\n",
      " 8   gender               12414 non-null  float64\n",
      " 9   test_indication      12414 non-null  object \n",
      "dtypes: float64(2), int64(6), object(2)\n",
      "memory usage: 1.3+ MB\n"
     ]
    }
   ],
   "source": [
    "sample_df.info()"
   ]
  },
  {
   "cell_type": "code",
   "execution_count": 384,
   "id": "4a5f1b36",
   "metadata": {},
   "outputs": [
    {
     "data": {
      "text/plain": [
       "0.0    6329\n",
       "1.0    6085\n",
       "Name: gender, dtype: int64"
      ]
     },
     "execution_count": 384,
     "metadata": {},
     "output_type": "execute_result"
    }
   ],
   "source": [
    "sample_df['gender'].value_counts()"
   ]
  },
  {
   "cell_type": "code",
   "execution_count": 385,
   "id": "704489b7",
   "metadata": {},
   "outputs": [
    {
     "data": {
      "text/plain": [
       "<AxesSubplot:xlabel='gender', ylabel='count'>"
      ]
     },
     "execution_count": 385,
     "metadata": {},
     "output_type": "execute_result"
    },
    {
     "data": {
      "image/png": "[encoded data removed]",
      "text/plain": [
       "<Figure size 432x288 with 1 Axes>"
      ]
     },
     "metadata": {
      "needs_background": "light"
     },
     "output_type": "display_data"
    }
   ],
   "source": [
    "sns.countplot(df['gender'])\n"
   ]
  },
  {
   "cell_type": "code",
   "execution_count": 386,
   "id": "b4eb8abf",
   "metadata": {},
   "outputs": [],
   "source": [
    "cough_sample = sample_df['cough'] == 1\n",
    "fever_sample = sample_df['fever'] == 1\n",
    "sore_throat_sample = sample_df['sore_throat']== 1\n",
    "shortness_of_breath_sample = sample_df['shortness_of_breath']==1\n",
    "head_ache_sample = sample_df['head_ache']==1\n",
    "corona_result_sample = sample_df['corona_result']==1\n",
    "age_60_and_above_sample = sample_df['age_60_and_above']==1\n",
    "\n",
    "cough_sample = cough_sample.sum()\n",
    "fever_sample =fever_sample.sum()\n",
    "sore_throat_sample=sore_throat_sample.sum()\n",
    "shortness_of_breath_sample=shortness_of_breath_sample.sum()\n",
    "head_ache_sample=head_ache_sample.sum()\n",
    "corona_result_sample=corona_result_sample.sum()\n",
    "age_60_and_above_sample=age_60_and_above_sample.sum()"
   ]
  },
  {
   "cell_type": "code",
   "execution_count": 387,
   "id": "f7cdcd9d",
   "metadata": {},
   "outputs": [
    {
     "data": {
      "text/html": [
       "<div>\n",
       "<style scoped>\n",
       "    .dataframe tbody tr th:only-of-type {\n",
       "        vertical-align: middle;\n",
       "    }\n",
       "\n",
       "    .dataframe tbody tr th {\n",
       "        vertical-align: top;\n",
       "    }\n",
       "\n",
       "    .dataframe thead th {\n",
       "        text-align: right;\n",
       "    }\n",
       "</style>\n",
       "<table border=\"1\" class=\"dataframe\">\n",
       "  <thead>\n",
       "    <tr style=\"text-align: right;\">\n",
       "      <th></th>\n",
       "      <th>colums</th>\n",
       "      <th>count</th>\n",
       "    </tr>\n",
       "  </thead>\n",
       "  <tbody>\n",
       "    <tr>\n",
       "      <th>0</th>\n",
       "      <td>cough</td>\n",
       "      <td>629</td>\n",
       "    </tr>\n",
       "    <tr>\n",
       "      <th>1</th>\n",
       "      <td>fever</td>\n",
       "      <td>479</td>\n",
       "    </tr>\n",
       "    <tr>\n",
       "      <th>2</th>\n",
       "      <td>sore_throat</td>\n",
       "      <td>242</td>\n",
       "    </tr>\n",
       "    <tr>\n",
       "      <th>3</th>\n",
       "      <td>shortness_of_breath</td>\n",
       "      <td>60</td>\n",
       "    </tr>\n",
       "    <tr>\n",
       "      <th>4</th>\n",
       "      <td>head_ache</td>\n",
       "      <td>497</td>\n",
       "    </tr>\n",
       "    <tr>\n",
       "      <th>5</th>\n",
       "      <td>corona_result</td>\n",
       "      <td>1615</td>\n",
       "    </tr>\n",
       "    <tr>\n",
       "      <th>6</th>\n",
       "      <td>age_60_and_above</td>\n",
       "      <td>1665</td>\n",
       "    </tr>\n",
       "  </tbody>\n",
       "</table>\n",
       "</div>"
      ],
      "text/plain": [
       "                colums  count\n",
       "0                cough    629\n",
       "1                fever    479\n",
       "2          sore_throat    242\n",
       "3  shortness_of_breath     60\n",
       "4            head_ache    497\n",
       "5        corona_result   1615\n",
       "6     age_60_and_above   1665"
      ]
     },
     "execution_count": 387,
     "metadata": {},
     "output_type": "execute_result"
    }
   ],
   "source": [
    "Distribution_sample={'colums':['cough','fever','sore_throat','shortness_of_breath','head_ache', 'corona_result','age_60_and_above'],\n",
    "                     'count':[cough_sample,fever_sample,sore_throat_sample,shortness_of_breath_sample,head_ache_sample,corona_result_sample,age_60_and_above_sample]}\n",
    "\n",
    "Distribution_sample=pd.DataFrame(data=Distribution_sample,index=range(7))\n",
    "Distribution_sample"
   ]
  },
  {
   "cell_type": "code",
   "execution_count": 388,
   "id": "92b8b019",
   "metadata": {},
   "outputs": [],
   "source": [
    "cough = df['cough'] == 1\n",
    "fever = df['fever'] == 1\n",
    "sore_throat = df['sore_throat']== 1\n",
    "shortness_of_breath = df['shortness_of_breath']==1\n",
    "head_ache = df['head_ache']==1\n",
    "corona_result = df['corona_result']==1\n",
    "age_60_and_above = df['age_60_and_above']==1\n",
    "\n",
    "cough = cough.sum()\n",
    "fever =fever.sum()\n",
    "sore_throat=sore_throat.sum()\n",
    "shortness_of_breath=shortness_of_breath.sum()\n",
    "head_ache=head_ache.sum()\n",
    "corona_result=corona_result.sum()\n",
    "age_60_and_above=age_60_and_above.sum()"
   ]
  },
  {
   "cell_type": "code",
   "execution_count": 389,
   "id": "407393a4",
   "metadata": {},
   "outputs": [
    {
     "data": {
      "text/html": [
       "<div>\n",
       "<style scoped>\n",
       "    .dataframe tbody tr th:only-of-type {\n",
       "        vertical-align: middle;\n",
       "    }\n",
       "\n",
       "    .dataframe tbody tr th {\n",
       "        vertical-align: top;\n",
       "    }\n",
       "\n",
       "    .dataframe thead th {\n",
       "        text-align: right;\n",
       "    }\n",
       "</style>\n",
       "<table border=\"1\" class=\"dataframe\">\n",
       "  <thead>\n",
       "    <tr style=\"text-align: right;\">\n",
       "      <th></th>\n",
       "      <th>colums</th>\n",
       "      <th>count</th>\n",
       "    </tr>\n",
       "  </thead>\n",
       "  <tbody>\n",
       "    <tr>\n",
       "      <th>0</th>\n",
       "      <td>cough</td>\n",
       "      <td>312000</td>\n",
       "    </tr>\n",
       "    <tr>\n",
       "      <th>1</th>\n",
       "      <td>fever</td>\n",
       "      <td>242341</td>\n",
       "    </tr>\n",
       "    <tr>\n",
       "      <th>2</th>\n",
       "      <td>sore_throat</td>\n",
       "      <td>132744</td>\n",
       "    </tr>\n",
       "    <tr>\n",
       "      <th>3</th>\n",
       "      <td>shortness_of_breath</td>\n",
       "      <td>26675</td>\n",
       "    </tr>\n",
       "    <tr>\n",
       "      <th>4</th>\n",
       "      <td>head_ache</td>\n",
       "      <td>258328</td>\n",
       "    </tr>\n",
       "    <tr>\n",
       "      <th>5</th>\n",
       "      <td>corona_result</td>\n",
       "      <td>826347</td>\n",
       "    </tr>\n",
       "    <tr>\n",
       "      <th>6</th>\n",
       "      <td>age_60_and_above</td>\n",
       "      <td>809527</td>\n",
       "    </tr>\n",
       "  </tbody>\n",
       "</table>\n",
       "</div>"
      ],
      "text/plain": [
       "                colums   count\n",
       "0                cough  312000\n",
       "1                fever  242341\n",
       "2          sore_throat  132744\n",
       "3  shortness_of_breath   26675\n",
       "4            head_ache  258328\n",
       "5        corona_result  826347\n",
       "6     age_60_and_above  809527"
      ]
     },
     "execution_count": 389,
     "metadata": {},
     "output_type": "execute_result"
    }
   ],
   "source": [
    "Distribution_orginal={'colums':['cough','fever','sore_throat','shortness_of_breath','head_ache','corona_result','age_60_and_above'],\n",
    "                      'count':[cough,fever,sore_throat,shortness_of_breath,head_ache,corona_result,age_60_and_above]}\n",
    "\n",
    "Distribution_orginal=pd.DataFrame(data=Distribution_orginal,index=range(7))\n",
    "Distribution_orginal"
   ]
  },
  {
   "cell_type": "markdown",
   "id": "02441e3b",
   "metadata": {},
   "source": [
    "## Now we will check the distribtuion of the parameters stays the same like the original data frame"
   ]
  },
  {
   "cell_type": "code",
   "execution_count": 390,
   "id": "e2b481a4",
   "metadata": {
    "scrolled": false
   },
   "outputs": [
    {
     "data": {
      "text/plain": [
       "Text(0.5, 1.0, 'Distribution_sample')"
      ]
     },
     "execution_count": 390,
     "metadata": {},
     "output_type": "execute_result"
    },
    {
     "data": {
      "image/png": "[encoded data removed]",
      "text/plain": [
       "<Figure size 720x360 with 1 Axes>"
      ]
     },
     "metadata": {
      "needs_background": "light"
     },
     "output_type": "display_data"
    },
    {
     "data": {
      "image/png": "[encoded data removed]",
      "text/plain": [
       "<Figure size 720x360 with 1 Axes>"
      ]
     },
     "metadata": {
      "needs_background": "light"
     },
     "output_type": "display_data"
    }
   ],
   "source": [
    "fig = plt.figure(figsize=(10,5))\n",
    "sns.barplot('colums','count',data=Distribution_orginal).set_title('Distribution_orginal')\n",
    "\n",
    "fig = plt.figure(figsize=(10,5))\n",
    "sns.barplot('colums','count',data=Distribution_sample).set_title('Distribution_sample')"
   ]
  },
  {
   "cell_type": "markdown",
   "id": "78373e7f",
   "metadata": {},
   "source": [
    "### From the table above we can infer that the ration stays the same"
   ]
  },
  {
   "cell_type": "code",
   "execution_count": 391,
   "id": "897b12c4",
   "metadata": {},
   "outputs": [
    {
     "data": {
      "text/html": [
       "<div>\n",
       "<style scoped>\n",
       "    .dataframe tbody tr th:only-of-type {\n",
       "        vertical-align: middle;\n",
       "    }\n",
       "\n",
       "    .dataframe tbody tr th {\n",
       "        vertical-align: top;\n",
       "    }\n",
       "\n",
       "    .dataframe thead th {\n",
       "        text-align: right;\n",
       "    }\n",
       "</style>\n",
       "<table border=\"1\" class=\"dataframe\">\n",
       "  <thead>\n",
       "    <tr style=\"text-align: right;\">\n",
       "      <th></th>\n",
       "      <th>cough</th>\n",
       "      <th>fever</th>\n",
       "      <th>sore_throat</th>\n",
       "      <th>shortness_of_breath</th>\n",
       "      <th>head_ache</th>\n",
       "      <th>corona_result</th>\n",
       "      <th>age_60_and_above</th>\n",
       "      <th>gender</th>\n",
       "    </tr>\n",
       "  </thead>\n",
       "  <tbody>\n",
       "    <tr>\n",
       "      <th>count</th>\n",
       "      <td>1615.000000</td>\n",
       "      <td>1615.000000</td>\n",
       "      <td>1615.000000</td>\n",
       "      <td>1615.000000</td>\n",
       "      <td>1615.000000</td>\n",
       "      <td>1615.0</td>\n",
       "      <td>1615.000000</td>\n",
       "      <td>1615.000000</td>\n",
       "    </tr>\n",
       "    <tr>\n",
       "      <th>mean</th>\n",
       "      <td>0.136223</td>\n",
       "      <td>0.121362</td>\n",
       "      <td>0.069350</td>\n",
       "      <td>0.020433</td>\n",
       "      <td>0.119505</td>\n",
       "      <td>1.0</td>\n",
       "      <td>0.120124</td>\n",
       "      <td>0.499071</td>\n",
       "    </tr>\n",
       "    <tr>\n",
       "      <th>std</th>\n",
       "      <td>0.343131</td>\n",
       "      <td>0.326649</td>\n",
       "      <td>0.254127</td>\n",
       "      <td>0.141521</td>\n",
       "      <td>0.324482</td>\n",
       "      <td>0.0</td>\n",
       "      <td>0.325207</td>\n",
       "      <td>0.500154</td>\n",
       "    </tr>\n",
       "    <tr>\n",
       "      <th>min</th>\n",
       "      <td>0.000000</td>\n",
       "      <td>0.000000</td>\n",
       "      <td>0.000000</td>\n",
       "      <td>0.000000</td>\n",
       "      <td>0.000000</td>\n",
       "      <td>1.0</td>\n",
       "      <td>0.000000</td>\n",
       "      <td>0.000000</td>\n",
       "    </tr>\n",
       "    <tr>\n",
       "      <th>25%</th>\n",
       "      <td>0.000000</td>\n",
       "      <td>0.000000</td>\n",
       "      <td>0.000000</td>\n",
       "      <td>0.000000</td>\n",
       "      <td>0.000000</td>\n",
       "      <td>1.0</td>\n",
       "      <td>0.000000</td>\n",
       "      <td>0.000000</td>\n",
       "    </tr>\n",
       "    <tr>\n",
       "      <th>50%</th>\n",
       "      <td>0.000000</td>\n",
       "      <td>0.000000</td>\n",
       "      <td>0.000000</td>\n",
       "      <td>0.000000</td>\n",
       "      <td>0.000000</td>\n",
       "      <td>1.0</td>\n",
       "      <td>0.000000</td>\n",
       "      <td>0.000000</td>\n",
       "    </tr>\n",
       "    <tr>\n",
       "      <th>75%</th>\n",
       "      <td>0.000000</td>\n",
       "      <td>0.000000</td>\n",
       "      <td>0.000000</td>\n",
       "      <td>0.000000</td>\n",
       "      <td>0.000000</td>\n",
       "      <td>1.0</td>\n",
       "      <td>0.000000</td>\n",
       "      <td>1.000000</td>\n",
       "    </tr>\n",
       "    <tr>\n",
       "      <th>max</th>\n",
       "      <td>1.000000</td>\n",
       "      <td>1.000000</td>\n",
       "      <td>1.000000</td>\n",
       "      <td>1.000000</td>\n",
       "      <td>1.000000</td>\n",
       "      <td>1.0</td>\n",
       "      <td>1.000000</td>\n",
       "      <td>1.000000</td>\n",
       "    </tr>\n",
       "  </tbody>\n",
       "</table>\n",
       "</div>"
      ],
      "text/plain": [
       "             cough        fever  sore_throat  shortness_of_breath  \\\n",
       "count  1615.000000  1615.000000  1615.000000          1615.000000   \n",
       "mean      0.136223     0.121362     0.069350             0.020433   \n",
       "std       0.343131     0.326649     0.254127             0.141521   \n",
       "min       0.000000     0.000000     0.000000             0.000000   \n",
       "25%       0.000000     0.000000     0.000000             0.000000   \n",
       "50%       0.000000     0.000000     0.000000             0.000000   \n",
       "75%       0.000000     0.000000     0.000000             0.000000   \n",
       "max       1.000000     1.000000     1.000000             1.000000   \n",
       "\n",
       "         head_ache  corona_result  age_60_and_above       gender  \n",
       "count  1615.000000         1615.0       1615.000000  1615.000000  \n",
       "mean      0.119505            1.0          0.120124     0.499071  \n",
       "std       0.324482            0.0          0.325207     0.500154  \n",
       "min       0.000000            1.0          0.000000     0.000000  \n",
       "25%       0.000000            1.0          0.000000     0.000000  \n",
       "50%       0.000000            1.0          0.000000     0.000000  \n",
       "75%       0.000000            1.0          0.000000     1.000000  \n",
       "max       1.000000            1.0          1.000000     1.000000  "
      ]
     },
     "execution_count": 391,
     "metadata": {},
     "output_type": "execute_result"
    }
   ],
   "source": [
    "sample_df[sample_df['corona_result']==1].describe()\n"
   ]
  },
  {
   "cell_type": "markdown",
   "id": "38c80187",
   "metadata": {},
   "source": [
    "## We can now see the percentage between postive and negative case stays roughly the same"
   ]
  },
  {
   "cell_type": "code",
   "execution_count": 392,
   "id": "c86dd106",
   "metadata": {},
   "outputs": [
    {
     "data": {
      "image/png": "[encoded data removed]",
      "text/plain": [
       "<Figure size 504x504 with 1 Axes>"
      ]
     },
     "metadata": {},
     "output_type": "display_data"
    }
   ],
   "source": [
    "sample_df_negative = sample_df['corona_result'] == 0\n",
    "sample_df_positive = sample_df['corona_result'] == 1\n",
    "\n",
    "labels = 'Positive Cases', 'Negative Cases'\n",
    "sizes = [sample_df_positive.sum(), sample_df_negative.sum()]\n",
    "colors = ['lightblue', 'pink']\n",
    "explode = (0.5, 0) \n",
    "\n",
    "fig, axs = plt.subplots(figsize=(7, 7))\n",
    "plt.pie(sizes, explode=explode, labels=labels, colors=colors,\n",
    "autopct='%1.1f%%', shadow=True, startangle=0)\n",
    "\n",
    "\n",
    "plt.show()"
   ]
  },
  {
   "cell_type": "markdown",
   "id": "367b3b91",
   "metadata": {},
   "source": [
    "## Showing the connection between sympytonms and corona reslut"
   ]
  },
  {
   "cell_type": "code",
   "execution_count": 393,
   "id": "a8955208",
   "metadata": {},
   "outputs": [
    {
     "data": {
      "image/png": "[encoded data removed]",
      "text/plain": [
       "<Figure size 936x936 with 8 Axes>"
      ]
     },
     "metadata": {},
     "output_type": "display_data"
    }
   ],
   "source": [
    "fig, ax = plt.subplots(4,2 ,figsize = (13,13))\n",
    "((ax1, ax2) , (ax3, ax4),(ax5, ax6) , (ax7, ax8)) = ax\n",
    "labels = [\"doesnt have head ache \", \"have head ache\"]\n",
    "values = sample_df[(sample_df['head_ache']==1)]['corona_result'].value_counts().tolist()\n",
    "ax1.pie(x=values, labels=labels, autopct=\"%1.1f%%\", shadow=True , explode=[0, 0.05])\n",
    "ax1.set_title(\"Head ache among the tested people\", fontdict={'fontsize': 14})\n",
    "\n",
    "labels = [\"Negative with head ache \", \"Positve with head ache\"]\n",
    "values = sample_df[(sample_df['corona_result']==1)]['head_ache'].value_counts().tolist()\n",
    "ax2.pie(x=values, labels=labels, autopct=\"%1.1f%%\", shadow=True , explode=[0, 0.5])\n",
    "ax2.set_title(\"Head ache distrubtion\", fontdict={'fontsize': 14})\n",
    "\n",
    "labels = [\"dont have fever\", \"have fever\"]\n",
    "values = sample_df[(sample_df['fever']==1)]['corona_result'].value_counts().tolist()\n",
    "ax3.pie(x=values, labels=labels, autopct=\"%1.1f%%\", shadow=True , explode=[0, 0.05])\n",
    "ax3.set_title(\"Fever among the tested people\", fontdict={'fontsize': 14})\n",
    "\n",
    "labels = [\"Negative with fever \", \"Postive with fever\"]\n",
    "values = sample_df[(sample_df['corona_result']==1)]['fever'].value_counts().tolist()\n",
    "ax4.pie(x=values, labels=labels, autopct=\"%1.1f%%\", shadow=True , explode=[0, 0.5])\n",
    "ax4.set_title(\"Fever distrubtion\", fontdict={'fontsize': 14})\n",
    "\n",
    "labels = [\"dont have cough\", \"have cough\"]\n",
    "values = sample_df[(sample_df['cough']==1)]['corona_result'].value_counts().tolist()\n",
    "ax5.pie(x=values, labels=labels, autopct=\"%1.1f%%\", shadow=True , explode=[0, 0.05])\n",
    "ax5.set_title(\"Cough among the tested people\", fontdict={'fontsize': 14})\n",
    "\n",
    "labels = [\"Negative with cough \", \"Postive with cough\"]\n",
    "values = sample_df[(sample_df['corona_result']==1)]['cough'].value_counts().tolist()\n",
    "ax6.pie(x=values, labels=labels, autopct=\"%1.1f%%\", shadow=True , explode=[0, 0.5])\n",
    "ax6.set_title(\"Cough distrubtion\", fontdict={'fontsize': 14})\n",
    "\n",
    "labels = [\"dont have sore throat\", \"have sore throat\"]\n",
    "values = sample_df[(sample_df['sore_throat']==1)]['corona_result'].value_counts().tolist()\n",
    "ax7.pie(x=values, labels=labels, autopct=\"%1.1f%%\", shadow=True , explode=[0, 0.05])\n",
    "ax7.set_title(\"Sore throat among the tested people\", fontdict={'fontsize': 14})\n",
    "\n",
    "labels = [\"Negative with sore throat \", \"Postive with sore throat\"]\n",
    "values = sample_df[(sample_df['corona_result']==1)]['sore_throat'].value_counts().tolist()\n",
    "ax8.pie(x=values, labels=labels, autopct=\"%1.1f%%\", shadow=True , explode=[0, 0.5])\n",
    "ax8.set_title(\"Sore throat distrubtion\", fontdict={'fontsize': 14})\n",
    "\n",
    "\n",
    "plt.show()"
   ]
  },
  {
   "cell_type": "markdown",
   "id": "30ac9794",
   "metadata": {},
   "source": [
    "# Checking for correlations in our dataset"
   ]
  },
  {
   "cell_type": "markdown",
   "id": "baecd1f1",
   "metadata": {},
   "source": [
    "We want to see more cleary if there is a correlation between all the parameters"
   ]
  },
  {
   "cell_type": "code",
   "execution_count": 394,
   "id": "cf1fc2d4",
   "metadata": {
    "scrolled": true
   },
   "outputs": [
    {
     "data": {
      "text/html": [
       "<div>\n",
       "<style scoped>\n",
       "    .dataframe tbody tr th:only-of-type {\n",
       "        vertical-align: middle;\n",
       "    }\n",
       "\n",
       "    .dataframe tbody tr th {\n",
       "        vertical-align: top;\n",
       "    }\n",
       "\n",
       "    .dataframe thead th {\n",
       "        text-align: right;\n",
       "    }\n",
       "</style>\n",
       "<table border=\"1\" class=\"dataframe\">\n",
       "  <thead>\n",
       "    <tr style=\"text-align: right;\">\n",
       "      <th></th>\n",
       "      <th>cough</th>\n",
       "      <th>fever</th>\n",
       "      <th>sore_throat</th>\n",
       "      <th>shortness_of_breath</th>\n",
       "      <th>head_ache</th>\n",
       "      <th>corona_result</th>\n",
       "      <th>age_60_and_above</th>\n",
       "      <th>gender</th>\n",
       "    </tr>\n",
       "  </thead>\n",
       "  <tbody>\n",
       "    <tr>\n",
       "      <th>cough</th>\n",
       "      <td>1.000000</td>\n",
       "      <td>0.337017</td>\n",
       "      <td>0.302162</td>\n",
       "      <td>0.163961</td>\n",
       "      <td>0.359376</td>\n",
       "      <td>0.150854</td>\n",
       "      <td>0.069664</td>\n",
       "      <td>-0.029623</td>\n",
       "    </tr>\n",
       "    <tr>\n",
       "      <th>fever</th>\n",
       "      <td>0.337017</td>\n",
       "      <td>1.000000</td>\n",
       "      <td>0.186537</td>\n",
       "      <td>0.118710</td>\n",
       "      <td>0.330299</td>\n",
       "      <td>0.166202</td>\n",
       "      <td>0.018109</td>\n",
       "      <td>0.002683</td>\n",
       "    </tr>\n",
       "    <tr>\n",
       "      <th>sore_throat</th>\n",
       "      <td>0.302162</td>\n",
       "      <td>0.186537</td>\n",
       "      <td>1.000000</td>\n",
       "      <td>0.116192</td>\n",
       "      <td>0.304078</td>\n",
       "      <td>0.139455</td>\n",
       "      <td>0.024864</td>\n",
       "      <td>-0.032194</td>\n",
       "    </tr>\n",
       "    <tr>\n",
       "      <th>shortness_of_breath</th>\n",
       "      <td>0.163961</td>\n",
       "      <td>0.118710</td>\n",
       "      <td>0.116192</td>\n",
       "      <td>1.000000</td>\n",
       "      <td>0.157586</td>\n",
       "      <td>0.086987</td>\n",
       "      <td>0.013472</td>\n",
       "      <td>-0.012571</td>\n",
       "    </tr>\n",
       "    <tr>\n",
       "      <th>head_ache</th>\n",
       "      <td>0.359376</td>\n",
       "      <td>0.330299</td>\n",
       "      <td>0.304078</td>\n",
       "      <td>0.157586</td>\n",
       "      <td>1.000000</td>\n",
       "      <td>0.156763</td>\n",
       "      <td>0.000411</td>\n",
       "      <td>-0.014479</td>\n",
       "    </tr>\n",
       "    <tr>\n",
       "      <th>corona_result</th>\n",
       "      <td>0.150854</td>\n",
       "      <td>0.166202</td>\n",
       "      <td>0.139455</td>\n",
       "      <td>0.086987</td>\n",
       "      <td>0.156763</td>\n",
       "      <td>1.000000</td>\n",
       "      <td>-0.015886</td>\n",
       "      <td>0.006884</td>\n",
       "    </tr>\n",
       "    <tr>\n",
       "      <th>age_60_and_above</th>\n",
       "      <td>0.069664</td>\n",
       "      <td>0.018109</td>\n",
       "      <td>0.024864</td>\n",
       "      <td>0.013472</td>\n",
       "      <td>0.000411</td>\n",
       "      <td>-0.015886</td>\n",
       "      <td>1.000000</td>\n",
       "      <td>-0.029854</td>\n",
       "    </tr>\n",
       "    <tr>\n",
       "      <th>gender</th>\n",
       "      <td>-0.029623</td>\n",
       "      <td>0.002683</td>\n",
       "      <td>-0.032194</td>\n",
       "      <td>-0.012571</td>\n",
       "      <td>-0.014479</td>\n",
       "      <td>0.006884</td>\n",
       "      <td>-0.029854</td>\n",
       "      <td>1.000000</td>\n",
       "    </tr>\n",
       "  </tbody>\n",
       "</table>\n",
       "</div>"
      ],
      "text/plain": [
       "                        cough     fever  sore_throat  shortness_of_breath  \\\n",
       "cough                1.000000  0.337017     0.302162             0.163961   \n",
       "fever                0.337017  1.000000     0.186537             0.118710   \n",
       "sore_throat          0.302162  0.186537     1.000000             0.116192   \n",
       "shortness_of_breath  0.163961  0.118710     0.116192             1.000000   \n",
       "head_ache            0.359376  0.330299     0.304078             0.157586   \n",
       "corona_result        0.150854  0.166202     0.139455             0.086987   \n",
       "age_60_and_above     0.069664  0.018109     0.024864             0.013472   \n",
       "gender              -0.029623  0.002683    -0.032194            -0.012571   \n",
       "\n",
       "                     head_ache  corona_result  age_60_and_above    gender  \n",
       "cough                 0.359376       0.150854          0.069664 -0.029623  \n",
       "fever                 0.330299       0.166202          0.018109  0.002683  \n",
       "sore_throat           0.304078       0.139455          0.024864 -0.032194  \n",
       "shortness_of_breath   0.157586       0.086987          0.013472 -0.012571  \n",
       "head_ache             1.000000       0.156763          0.000411 -0.014479  \n",
       "corona_result         0.156763       1.000000         -0.015886  0.006884  \n",
       "age_60_and_above      0.000411      -0.015886          1.000000 -0.029854  \n",
       "gender               -0.014479       0.006884         -0.029854  1.000000  "
      ]
     },
     "execution_count": 394,
     "metadata": {},
     "output_type": "execute_result"
    }
   ],
   "source": [
    "sample_df.corr()"
   ]
  },
  {
   "cell_type": "code",
   "execution_count": 395,
   "id": "50be4c09",
   "metadata": {
    "scrolled": false
   },
   "outputs": [
    {
     "data": {
      "text/plain": [
       "<AxesSubplot:>"
      ]
     },
     "execution_count": 395,
     "metadata": {},
     "output_type": "execute_result"
    },
    {
     "data": {
      "image/png": "[encoded data removed]",
      "text/plain": [
       "<Figure size 1080x864 with 2 Axes>"
      ]
     },
     "metadata": {
      "needs_background": "light"
     },
     "output_type": "display_data"
    }
   ],
   "source": [
    "fig, ax = plt.subplots(figsize=(15,12))\n",
    "sns.heatmap(sample_df[['cough', 'fever', 'sore_throat', 'shortness_of_breath' ,'head_ache','corona_result','age_60_and_above', 'gender']].corr(),annot=True)"
   ]
  },
  {
   "cell_type": "markdown",
   "id": "4d5130b2",
   "metadata": {},
   "source": [
    "### Conclusion\n",
    "Using the hot map we noticed that there is no correlation between the following parameters:\n",
    "- Gender\n",
    "- Over the age of 60\n",
    "- Indication for testing\n",
    "- test date\n",
    "\n",
    "So we decided to delete them."
   ]
  },
  {
   "cell_type": "code",
   "execution_count": 396,
   "id": "b249a818",
   "metadata": {},
   "outputs": [],
   "source": [
    "sample_df.drop(['age_60_and_above','gender' , 'test_indication','test_date'], axis=1, inplace=True)\n"
   ]
  },
  {
   "cell_type": "markdown",
   "id": "cc4adaf8",
   "metadata": {},
   "source": [
    "## Among the variables that have a correlation we will put them in a pie chart"
   ]
  },
  {
   "cell_type": "code",
   "execution_count": 397,
   "id": "85a62ad1",
   "metadata": {},
   "outputs": [
    {
     "data": {
      "image/png": "[encoded data removed]",
      "text/plain": [
       "<Figure size 720x720 with 2 Axes>"
      ]
     },
     "metadata": {},
     "output_type": "display_data"
    }
   ],
   "source": [
    "fig, ax = plt.subplots(1,2,figsize = (10,10))\n",
    "((ax1, ax2)) = ax\n",
    "labels = [\"dont have all syptoms\", \"have all syptomos\"]\n",
    "values = sample_df[(sample_df['fever']==1) & (sample_df['cough']==1)&(sample_df['head_ache']==1)&(sample_df['sore_throat']==1)]['corona_result'].value_counts().tolist()\n",
    "ax1.pie(x=values, labels=labels, autopct=\"%1.2f%%\", shadow=True)\n",
    "ax1.set_title(\"all syptoms\", fontdict={'fontsize': 10})\n",
    "\n",
    "labels = [\"dont have any syptoms\", \"have at least one syptoms\"]\n",
    "values = sample_df[(sample_df['fever']==1) | (sample_df['cough']==1) | (sample_df['head_ache']==1) | (sample_df['sore_throat']==1)]['corona_result'].value_counts().tolist()\n",
    "ax2.pie(x=values, labels=labels, autopct=\"%1.2f%%\", shadow=True)\n",
    "ax2.set_title(\"at least one syptoms\", fontdict={'fontsize': 10})\n",
    "plt.tight_layout()\n",
    "\n",
    "\n",
    "plt.show()"
   ]
  },
  {
   "cell_type": "code",
   "execution_count": 398,
   "id": "bfb04a65",
   "metadata": {
    "scrolled": false
   },
   "outputs": [
    {
     "data": {
      "image/png": "[encoded data removed]",
      "text/plain": [
       "<Figure size 864x864 with 8 Axes>"
      ]
     },
     "metadata": {},
     "output_type": "display_data"
    }
   ],
   "source": [
    "fig, ax = plt.subplots(4,2 ,figsize = (12,12))\n",
    "((ax1, ax5) , (ax2, ax6),(ax3, ax7) , (ax4, ax8)) = ax\n",
    "\n",
    "sample_df_fever = sample_df['fever'] == 1\n",
    "sample_df_postive = sample_df['corona_result'] == 1\n",
    "labels = 'Positive Cases', 'With fever'\n",
    "sizes = [sample_df_positive.sum(), sample_df_fever.sum()]\n",
    "colors = ['lightblue', 'pink']\n",
    "explode = (0.05, 0) \n",
    "ax1.pie(sizes, explode=explode, labels=labels, colors=colors,\n",
    "autopct='%1.1f%%', shadow=True, startangle=20)\n",
    "ax1.set_title(\"Positive with corona\", fontdict={'fontsize': 10})\n",
    "\n",
    "sample_df_cough = sample_df['cough'] == 1\n",
    "sample_df_postive = sample_df['corona_result'] == 1\n",
    "labels = 'Positive Cases', 'With cough'\n",
    "sizes = [sample_df_positive.sum(), sample_df_cough.sum()]\n",
    "colors = ['lightblue', 'pink']\n",
    "explode = (0.05, 0) \n",
    "ax2.pie(sizes, explode=explode, labels=labels, colors=colors,\n",
    "autopct='%1.1f%%', shadow=True, startangle=20)\n",
    "\n",
    "sample_df_head_ache = sample_df['head_ache'] == 1\n",
    "sample_df_postive = sample_df['corona_result'] == 1\n",
    "labels = 'Positive Cases', 'With head_ache'\n",
    "sizes = [sample_df_positive.sum(), sample_df_head_ache.sum()]\n",
    "colors = ['lightblue', 'pink']\n",
    "explode = (0.05, 0) \n",
    "ax3.pie(sizes, explode=explode, labels=labels, colors=colors,\n",
    "autopct='%1.1f%%', shadow=True, startangle=20)\n",
    "\n",
    "sample_df_sore_throat = sample_df['sore_throat'] == 1\n",
    "sample_df_postive = sample_df['corona_result'] == 1\n",
    "labels = 'Positive Cases', 'With sore_throat'\n",
    "sizes = [sample_df_positive.sum(), sample_df_sore_throat.sum()]\n",
    "colors = ['lightblue', 'pink']\n",
    "explode = (0.05, 0) \n",
    "ax4.pie(sizes, explode=explode, labels=labels, colors=colors,\n",
    "autopct='%1.1f%%', shadow=True, startangle=20)\n",
    "\n",
    "sample_df_fever = sample_df['fever'] == 0\n",
    "sample_df_postive = sample_df['corona_result'] == 1\n",
    "labels = 'Positive Cases', 'Without fever'\n",
    "sizes = [sample_df_positive.sum(), sample_df_fever.sum()]\n",
    "colors = ['lightblue', 'pink']\n",
    "explode = (0.05, 0) \n",
    "ax5.pie(sizes, explode=explode, labels=labels, colors=colors,\n",
    "autopct='%1.1f%%', shadow=True, startangle=20)\n",
    "\n",
    "sample_df_cough = sample_df['cough'] == 0\n",
    "sample_df_postive = sample_df['corona_result'] == 1\n",
    "labels = 'Positive Cases', 'Without cough'\n",
    "sizes = [sample_df_positive.sum(), sample_df_cough.sum()]\n",
    "colors = ['lightblue', 'pink']\n",
    "explode = (0.05, 0) \n",
    "ax6.pie(sizes, explode=explode, labels=labels, colors=colors,\n",
    "autopct='%1.1f%%', shadow=True, startangle=20)\n",
    "\n",
    "sample_df_head_ache = sample_df['head_ache'] == 0\n",
    "sample_df_postive = sample_df['corona_result'] == 1\n",
    "labels = 'Positive Cases', 'Without head_ache'\n",
    "sizes = [sample_df_positive.sum(), sample_df_head_ache.sum()]\n",
    "colors = ['lightblue', 'pink']\n",
    "explode = (0.05, 0) \n",
    "ax7.pie(sizes, explode=explode, labels=labels, colors=colors,\n",
    "autopct='%1.1f%%', shadow=True, startangle=20)\n",
    "\n",
    "sample_df_sore_throat = sample_df['sore_throat'] == 0\n",
    "sample_df_postive = sample_df['corona_result'] == 1\n",
    "labels = 'Positive Cases', 'Without sore_throat'\n",
    "sizes = [sample_df_positive.sum(), sample_df_sore_throat.sum()]\n",
    "colors = ['lightblue', 'pink']\n",
    "explode = (0.05, 0) \n",
    "ax8.pie(sizes, explode=explode, labels=labels, colors=colors,\n",
    "autopct='%1.1f%%', shadow=True, startangle=20)\n",
    "\n",
    "plt.tight_layout()\n",
    "plt.show()\n"
   ]
  },
  {
   "cell_type": "code",
   "execution_count": 399,
   "id": "2f4acd98",
   "metadata": {},
   "outputs": [],
   "source": [
    "sample_df['at1_symptoms'] = np.where((sample_df['fever']==1) | (sample_df['cough']==1)|(sample_df['head_ache']==1)|(sample_df['sore_throat']==1), 1, 0)"
   ]
  },
  {
   "cell_type": "code",
   "execution_count": 400,
   "id": "f97cdb08",
   "metadata": {},
   "outputs": [],
   "source": [
    "sample_df['all_symptoms'] = np.where((sample_df['fever']==1) & (sample_df['cough']==1)&(sample_df['head_ache']==1)&(sample_df['sore_throat']==1), 1, 0)"
   ]
  },
  {
   "cell_type": "code",
   "execution_count": 401,
   "id": "57f438d9",
   "metadata": {},
   "outputs": [],
   "source": [
    "sample_df['all_symptoms'] = np.where((sample_df['fever']==1) & (sample_df['cough']==1)&(sample_df['head_ache']==1)&(sample_df['sore_throat']==1), 1, 0)"
   ]
  },
  {
   "cell_type": "markdown",
   "id": "8803cef9",
   "metadata": {},
   "source": [
    "## We take the parameters that are the most correlated"
   ]
  },
  {
   "cell_type": "code",
   "execution_count": 402,
   "id": "61d37242",
   "metadata": {},
   "outputs": [
    {
     "data": {
      "text/plain": [
       "<AxesSubplot:>"
      ]
     },
     "execution_count": 402,
     "metadata": {},
     "output_type": "execute_result"
    },
    {
     "data": {
      "image/png": "[encoded data removed]",
      "text/plain": [
       "<Figure size 504x504 with 2 Axes>"
      ]
     },
     "metadata": {
      "needs_background": "light"
     },
     "output_type": "display_data"
    }
   ],
   "source": [
    "fig, ax = plt.subplots(figsize=(7,7))\n",
    "sns.heatmap(sample_df[['corona_result','at1_symptoms','all_symptoms']].corr(),annot=True)"
   ]
  },
  {
   "cell_type": "markdown",
   "id": "d2e9bf7a",
   "metadata": {},
   "source": [
    "#  Splitting our train set into x test y test"
   ]
  },
  {
   "cell_type": "code",
   "execution_count": 403,
   "id": "f04cddb5",
   "metadata": {},
   "outputs": [],
   "source": [
    "X = sample_df.drop(columns=['corona_result'])\n",
    "Y = sample_df['corona_result']\n",
    "X_train, X_test, y_train, y_test = train_test_split(X, Y, test_size=0.15, random_state = 7)"
   ]
  },
  {
   "cell_type": "code",
   "execution_count": 404,
   "id": "f7a585a3",
   "metadata": {},
   "outputs": [
    {
     "name": "stdout",
     "output_type": "stream",
     "text": [
      "(1863, 7)\n",
      "(10551, 7)\n"
     ]
    }
   ],
   "source": [
    "print(X_test.shape)\n",
    "print(X_train.shape)"
   ]
  },
  {
   "cell_type": "markdown",
   "id": "f646ce92",
   "metadata": {},
   "source": [
    "### We figured out that the data is imbalanced so we decied to add Synthetic data to help the model"
   ]
  },
  {
   "cell_type": "code",
   "execution_count": 405,
   "id": "a8d88322",
   "metadata": {},
   "outputs": [
    {
     "data": {
      "text/plain": [
       "0    10799\n",
       "1    10718\n",
       "Name: corona_result, dtype: int64"
      ]
     },
     "execution_count": 405,
     "metadata": {},
     "output_type": "execute_result"
    }
   ],
   "source": [
    "from sklearn.utils import resample\n",
    "df_1 = sample_df[sample_df.corona_result==1]\n",
    "df_2 = sample_df[sample_df.corona_result==0] \n",
    "df_1_upsampled = resample(df_1, replace=True,n_samples=10718,random_state=1) \n",
    "df_upsampled = pd.concat([df_1_upsampled, df_2])\n",
    "df_upsampled.corona_result.value_counts()"
   ]
  },
  {
   "cell_type": "code",
   "execution_count": 406,
   "id": "1d9867b0",
   "metadata": {},
   "outputs": [],
   "source": [
    "X = df_upsampled.drop(columns=['corona_result'])\n",
    "Y =df_upsampled['corona_result']\n",
    "X_train, X_test, y_train, y_test = train_test_split(X, Y, test_size=0.20, random_state = 1111)"
   ]
  },
  {
   "cell_type": "code",
   "execution_count": 407,
   "id": "662bf3e0",
   "metadata": {},
   "outputs": [
    {
     "data": {
      "text/plain": [
       "0.5018822326532509"
      ]
     },
     "execution_count": 407,
     "metadata": {},
     "output_type": "execute_result"
    }
   ],
   "source": [
    "dummy_clf = DummyClassifier(strategy=\"most_frequent\")\n",
    "dummy_clf.fit(X, Y)\n",
    "DummyClassifier(strategy='most_frequent')\n",
    "dummy_clf.predict(X)\n",
    "dummy_clf.score(X, Y)"
   ]
  },
  {
   "cell_type": "code",
   "execution_count": 408,
   "id": "1279d14a",
   "metadata": {
    "scrolled": false
   },
   "outputs": [
    {
     "data": {
      "image/png": "[encoded data removed]",
      "text/plain": [
       "<Figure size 504x504 with 1 Axes>"
      ]
     },
     "metadata": {},
     "output_type": "display_data"
    }
   ],
   "source": [
    "sample_df_negative = df_upsampled['corona_result'] == 0\n",
    "sample_df_positive = df_upsampled['corona_result'] == 1\n",
    "\n",
    "labels = 'Positive Cases', 'Negative Cases'\n",
    "sizes = [sample_df_positive.sum(), sample_df_negative.sum()]\n",
    "colors = ['lightblue', 'pink']\n",
    "explode = (0.05, 0) \n",
    "\n",
    "fig, axs = plt.subplots(figsize=(7, 7))\n",
    "plt.pie(sizes, explode=explode, labels=labels, colors=colors,\n",
    "autopct='%1.f%%', shadow=True, startangle=1)\n",
    "\n",
    "\n",
    "plt.show()"
   ]
  },
  {
   "cell_type": "code",
   "execution_count": 409,
   "id": "1b393f8e",
   "metadata": {},
   "outputs": [],
   "source": [
    "from sklearn.preprocessing import MinMaxScaler\n",
    "\n",
    "scaler = MinMaxScaler()\n",
    "scaler.fit(X_train)\n",
    "X_train_copy = pd.DataFrame(scaler.transform(X_train),  columns = X_train.columns)\n",
    "X_test_copy = pd.DataFrame(scaler.transform(X_test), columns = X_test.columns)"
   ]
  },
  {
   "cell_type": "markdown",
   "id": "fdb1d3ff",
   "metadata": {},
   "source": [
    "# Evaluating each model's accuracy rate:"
   ]
  },
  {
   "cell_type": "markdown",
   "id": "e07abda1",
   "metadata": {},
   "source": [
    "# Model #1 : KNN - K-Nearest Neighbors"
   ]
  },
  {
   "cell_type": "code",
   "execution_count": 410,
   "id": "6c4ab14d",
   "metadata": {},
   "outputs": [
    {
     "name": "stdout",
     "output_type": "stream",
     "text": [
      "Accuracy: 0.6203531598513011\n"
     ]
    }
   ],
   "source": [
    "model = KNeighborsClassifier(n_jobs=-1)\n",
    "model.fit(X_train,y_train)\n",
    "prediction=model.predict(X_test)\n",
    "print(\"Accuracy:\",metrics.accuracy_score(prediction,y_test))\n",
    "confusion_matrix=metrics.confusion_matrix(prediction,y_test)"
   ]
  },
  {
   "cell_type": "code",
   "execution_count": 411,
   "id": "632a4230",
   "metadata": {
    "scrolled": true
   },
   "outputs": [
    {
     "data": {
      "text/plain": [
       "Text(0, 0.5, 'Testing Accuracy')"
      ]
     },
     "execution_count": 411,
     "metadata": {},
     "output_type": "execute_result"
    },
    {
     "data": {
      "image/png": "[encoded data removed]",
      "text/plain": [
       "<Figure size 432x288 with 1 Axes>"
      ]
     },
     "metadata": {
      "needs_background": "light"
     },
     "output_type": "display_data"
    }
   ],
   "source": [
    "k_range = list(range(1, 31))\n",
    "scores = []\n",
    "for k in k_range:\n",
    "    knn = KNeighborsClassifier(n_neighbors=k)\n",
    "    knn.fit(X_train,y_train)\n",
    "    prediction = knn.predict(X_test)\n",
    "    scores.append(metrics.accuracy_score(prediction, y_test))\n",
    "    \n",
    "plt.plot(k_range, scores)\n",
    "plt.xlabel('Value of K for KNN')\n",
    "plt.ylabel('Testing Accuracy')"
   ]
  },
  {
   "cell_type": "markdown",
   "id": "3142f653",
   "metadata": {},
   "source": [
    "### Tunining Hyper-parameters \n",
    "in order to improve the model accuracy we try to figure the best hyper parameter of the algoritam "
   ]
  },
  {
   "cell_type": "code",
   "execution_count": null,
   "id": "864aa8c4",
   "metadata": {},
   "outputs": [
    {
     "name": "stdout",
     "output_type": "stream",
     "text": [
      "Cross-validation score for k = 1 is: 0.4935177330523201\n",
      "Cross-validation score for k = 3 is: 0.5686421947642735\n",
      "Cross-validation score for k = 5 is: 0.5778210815228431\n",
      "Cross-validation score for k = 7 is: 0.5767751104920362\n",
      "Cross-validation score for k = 9 is: 0.579099340590816\n",
      "Cross-validation score for k = 11 is: 0.5790412348383465\n"
     ]
    }
   ],
   "source": [
    "from sklearn.model_selection import cross_val_score\n",
    "for k in range(1,50,2):\n",
    "    knn_k = KNeighborsClassifier(n_neighbors = k)\n",
    "    ValScore = cross_val_score(knn_k, X_train, y_train, cv = 10).mean()\n",
    "    print(f\"Cross-validation score for k = {k} is:\", ValScore)"
   ]
  },
  {
   "cell_type": "code",
   "execution_count": null,
   "id": "559df390",
   "metadata": {},
   "outputs": [],
   "source": [
    "knn = KNeighborsClassifier(n_neighbors = 9, weights = 'distance',algorithm = 'brute',metric = 'minkowski')\n",
    "knn.fit(X_train, y_train)\n",
    "prediction=model.predict(X_test)\n",
    "print(\"Accuracy:\",metrics.accuracy_score(prediction,y_test))\n",
    "confusion_matrix=metrics.confusion_matrix(prediction,y_test)"
   ]
  },
  {
   "cell_type": "code",
   "execution_count": null,
   "id": "d13ec4ba",
   "metadata": {},
   "outputs": [],
   "source": [
    "accuracies = cross_val_score(estimator = model, X = X_train, y = y_train, cv = 10)"
   ]
  },
  {
   "cell_type": "code",
   "execution_count": null,
   "id": "b4e150df",
   "metadata": {},
   "outputs": [],
   "source": [
    "print(\"the scores of cross validation:\")\n",
    "print(accuracies.mean()*100)"
   ]
  },
  {
   "cell_type": "markdown",
   "id": "796bda17",
   "metadata": {},
   "source": [
    "## Confusion Matrix - KNN"
   ]
  },
  {
   "cell_type": "code",
   "execution_count": null,
   "id": "13dc1488",
   "metadata": {},
   "outputs": [],
   "source": [
    "from sklearn.metrics import confusion_matrix, ConfusionMatrixDisplay\n",
    "cm = confusion_matrix(y_test, prediction)\n",
    "cmd = ConfusionMatrixDisplay(cm, display_labels=['postive','negative'])\n",
    "cmd.plot()"
   ]
  },
  {
   "cell_type": "code",
   "execution_count": null,
   "id": "4ea7f7de",
   "metadata": {},
   "outputs": [],
   "source": [
    "knn_prec = precision_score(prediction,y_test)\n",
    "print('precision:',knn_prec)\n",
    "knn_recall = recall_score(prediction,y_test)\n",
    "print('recall:',knn_recall)\n",
    "knn_f1 = f1_score(prediction,y_test)\n",
    "print('f1:',knn_f1)\n",
    "knn_acc = accuracy_score(prediction,y_test)\n",
    "print(\"f2:\",metrics.fbeta_score(prediction, y_test, beta=3))\n",
    "print('accuracy:',knn_acc)"
   ]
  },
  {
   "cell_type": "markdown",
   "id": "8b3c8780",
   "metadata": {},
   "source": [
    "# Model #2 : LogisticRegression"
   ]
  },
  {
   "cell_type": "code",
   "execution_count": null,
   "id": "d72d500f",
   "metadata": {},
   "outputs": [],
   "source": [
    "logreg = LogisticRegression()\n",
    "logreg.fit(X_train, y_train)\n",
    "y_pred = logreg.predict(X_test)\n",
    "print(\"Accuracy:\",metrics.accuracy_score(y_pred,y_test))\n",
    "confusion_matrix=metrics.confusion_matrix(y_pred,y_test)"
   ]
  },
  {
   "cell_type": "code",
   "execution_count": null,
   "id": "2cee5740",
   "metadata": {},
   "outputs": [],
   "source": [
    "accuracies = cross_val_score(estimator = logreg, X = X_train, y = y_train, cv = 10)"
   ]
  },
  {
   "cell_type": "code",
   "execution_count": null,
   "id": "a58fb86b",
   "metadata": {},
   "outputs": [],
   "source": [
    "print(accuracies.mean()*100)"
   ]
  },
  {
   "cell_type": "markdown",
   "id": "7a98ab8c",
   "metadata": {},
   "source": [
    "## Confusion Matrix - LogisticRegression"
   ]
  },
  {
   "cell_type": "code",
   "execution_count": null,
   "id": "2dc8e0c6",
   "metadata": {},
   "outputs": [],
   "source": [
    "from sklearn.metrics import confusion_matrix, ConfusionMatrixDisplay\n",
    "cm = confusion_matrix(y_test, y_pred)\n",
    "cmd = ConfusionMatrixDisplay(cm, display_labels=['postive','negative'])\n",
    "cmd.plot()"
   ]
  },
  {
   "cell_type": "markdown",
   "id": "54f21253",
   "metadata": {},
   "source": [
    "# Model #3 : DesicionTree\n"
   ]
  },
  {
   "cell_type": "code",
   "execution_count": null,
   "id": "960ee65e",
   "metadata": {},
   "outputs": [],
   "source": [
    "dTree = DecisionTreeClassifier()\n",
    "dTree.fit(X_train,y_train)\n",
    "y_pred = dTree.predict(X_test)\n",
    "dTree_predict = cross_val_predict(dTree, X_train, y_train, cv = 5)"
   ]
  },
  {
   "cell_type": "code",
   "execution_count": null,
   "id": "7444a932",
   "metadata": {},
   "outputs": [],
   "source": [
    "dTree_prec = precision_score(y_train , dTree_predict)\n",
    "dTree_recall = recall_score(y_train , dTree_predict)\n",
    "dTree_f1 = f1_score(y_train , dTree_predict)\n",
    "dTree_acc = accuracy_score(y_train , dTree_predict)\n",
    "print('precision:',dTree_prec)\n",
    "print('recall:',dTree_recall)\n",
    "print('f1:',dTree_f1)\n",
    "print('accuracy:',dTree_acc)"
   ]
  },
  {
   "cell_type": "code",
   "execution_count": null,
   "id": "6c10ea50",
   "metadata": {},
   "outputs": [],
   "source": [
    "accuracies = cross_val_score(estimator = dTree, X = X_train, y = y_train, cv = 10)"
   ]
  },
  {
   "cell_type": "code",
   "execution_count": null,
   "id": "db632890",
   "metadata": {},
   "outputs": [],
   "source": [
    "print(accuracies.mean()*100)"
   ]
  },
  {
   "cell_type": "markdown",
   "id": "e73e9007",
   "metadata": {},
   "source": [
    "# Model #4 : RandomForest"
   ]
  },
  {
   "cell_type": "code",
   "execution_count": null,
   "id": "971a1e91",
   "metadata": {},
   "outputs": [],
   "source": [
    "randomForest = RandomForestClassifier()\n",
    "randomForest.fit(X_train,y_train)\n",
    "y_pred = dTree.predict(X_test)"
   ]
  },
  {
   "cell_type": "code",
   "execution_count": null,
   "id": "6b513b58",
   "metadata": {},
   "outputs": [],
   "source": [
    "randomForest_predict = cross_val_predict(randomForest, X_train, y_train, cv = 5)\n",
    "randomForest_prec = precision_score(y_train , randomForest_predict)\n",
    "randomForest_recall = recall_score(y_train , randomForest_predict)\n",
    "randomForest_f1 = f1_score(y_train , randomForest_predict)\n",
    "randomForest_acc = accuracy_score(y_train , randomForest_predict)\n",
    "print('precision:',randomForest_prec)\n",
    "print('recall:',randomForest_recall)\n",
    "print('f1:',randomForest_f1)\n",
    "print('accuracy:',randomForest_acc)"
   ]
  },
  {
   "cell_type": "code",
   "execution_count": null,
   "id": "a151f2f0",
   "metadata": {},
   "outputs": [],
   "source": [
    "accuracies = cross_val_score(estimator = randomForest, X = X_train, y = y_train, cv = 10)"
   ]
  },
  {
   "cell_type": "code",
   "execution_count": null,
   "id": "c0a8a6fd",
   "metadata": {},
   "outputs": [],
   "source": [
    "print(accuracies.mean()*100)"
   ]
  },
  {
   "cell_type": "markdown",
   "id": "bc2908e8",
   "metadata": {},
   "source": [
    "### Comparing our model to a dummy model\n"
   ]
  },
  {
   "cell_type": "code",
   "execution_count": null,
   "id": "cba08c50",
   "metadata": {},
   "outputs": [],
   "source": [
    "dummy_clf = DummyClassifier(strategy=\"stratified\")\n",
    "dummy_clf.fit(X, Y)\n",
    "DummyClassifier(strategy='stratified')\n",
    "dummy_clf.predict(X)\n",
    "dummy_clf.score(X, Y)"
   ]
  },
  {
   "cell_type": "code",
   "execution_count": null,
   "id": "b9dd1263",
   "metadata": {},
   "outputs": [],
   "source": [
    "print(\"KNN-Accuracy:\",metrics.accuracy_score(prediction,y_test))\n",
    "print(\"LogisticRegression-Accuracy:\",metrics.accuracy_score(y_pred,y_test))\n",
    "print('accuracy:',randomForest_acc)\n",
    "print('Dtree-accuracy:',dTree_acc)"
   ]
  },
  {
   "cell_type": "markdown",
   "id": "b82be141",
   "metadata": {},
   "source": [
    "## For conclusion we can see <BR>**LogisticRegression**<BR>have the best accuracy of 63.47%!"
   ]
  }
 ],
 "metadata": {
  "kernelspec": {
   "display_name": "Python 3",
   "language": "python",
   "name": "python3"
  },
  "language_info": {
   "codemirror_mode": {
    "name": "ipython",
    "version": 3
   },
   "file_extension": ".py",
   "mimetype": "text/x-python",
   "name": "python",
   "nbconvert_exporter": "python",
   "pygments_lexer": "ipython3",
   "version": "3.8.8"
  }
 },
 "nbformat": 4,
 "nbformat_minor": 5
}
