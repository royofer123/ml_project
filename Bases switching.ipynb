{
 "cells": [
  {
   "cell_type": "code",
   "execution_count": 1,
   "id": "d8324b1a",
   "metadata": {},
   "outputs": [
    {
     "name": "stdout",
     "output_type": "stream",
     "text": [
      "Enter an integer: 14\n",
      "0b1110 in binary.\n",
      "0o16 in octal\n",
      "0xe in hexadecimal\n"
     ]
    }
   ],
   "source": [
    "def binary(n):\n",
    "   if n > 1:\n",
    "       binary(n//2)\n",
    "   print(n % 2,end = '')\n",
    "\n",
    "def octal(n):\n",
    "   if n > 1:\n",
    "       binary(n//8)\n",
    "   print(n % 8,end = '')\n",
    "\n",
    "def hexadecimal(n):\n",
    "   if n > 1:\n",
    "       binary(n//16)\n",
    "   print(n % 16,end = '')\n",
    "\n",
    "\n",
    "dec = int(input(\"Enter an integer: \"))\n",
    "print(bin(dec), \"in binary.\")\n",
    "print(oct(dec), \"in octal\")\n",
    "print(hex(dec), \"in hexadecimal\")"
   ]
  },
  {
   "cell_type": "code",
   "execution_count": null,
   "id": "1ad60964",
   "metadata": {},
   "outputs": [],
   "source": []
  }
 ],
 "metadata": {
  "kernelspec": {
   "display_name": "Python 3",
   "language": "python",
   "name": "python3"
  },
  "language_info": {
   "codemirror_mode": {
    "name": "ipython",
    "version": 3
   },
   "file_extension": ".py",
   "mimetype": "text/x-python",
   "name": "python",
   "nbconvert_exporter": "python",
   "pygments_lexer": "ipython3",
   "version": "3.8.8"
  }
 },
 "nbformat": 4,
 "nbformat_minor": 5
}
